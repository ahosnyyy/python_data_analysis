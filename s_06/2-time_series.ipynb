{
 "cells": [
  {
   "cell_type": "markdown",
   "metadata": {},
   "source": [
    "# Working with Time Series Data\n",
    "\n",
    "## About the Data\n",
    "In this notebook, we will be working with 5 datasets:\n",
    "- (CSV) Facebook's stock price daily throughout 2018 (obtained using the [`stock_analysis` package](https://github.com/stefmolin/stock-analysis)).\n",
    "- (CSV) Facebook's OHLC stock data from May 20, 2019 - May 24, 2019 per minute from [Nasdaq.com](https://old.nasdaq.com/symbol/fb/interactive-chart).\n",
    "- (CSV) melted stock data for Facebook from May 20, 2019 - May 24, 2019 per minute from [Nasdaq.com](https://old.nasdaq.com/symbol/fb/interactive-chart).\n",
    "- (DB) stock opening prices by the minute for Apple from May 20, 2019 - May 24, 2019 altered to have seconds in the time from [Nasdaq.com](https://old.nasdaq.com/symbol/aapl/interactive-chart).\n",
    "- (DB) stock opening prices by the minute for Facebook from May 20, 2019 - May 24, 2019 from [Nasdaq.com](https://old.nasdaq.com/symbol/fb/interactive-chart).\n",
    "\n",
    "## Setup"
   ]
  },
  {
   "cell_type": "code",
   "execution_count": 1,
   "metadata": {},
   "outputs": [
    {
     "data": {
      "text/html": [
       "<div>\n",
       "<style scoped>\n",
       "    .dataframe tbody tr th:only-of-type {\n",
       "        vertical-align: middle;\n",
       "    }\n",
       "\n",
       "    .dataframe tbody tr th {\n",
       "        vertical-align: top;\n",
       "    }\n",
       "\n",
       "    .dataframe thead th {\n",
       "        text-align: right;\n",
       "    }\n",
       "</style>\n",
       "<table border=\"1\" class=\"dataframe\">\n",
       "  <thead>\n",
       "    <tr style=\"text-align: right;\">\n",
       "      <th></th>\n",
       "      <th>open</th>\n",
       "      <th>high</th>\n",
       "      <th>low</th>\n",
       "      <th>close</th>\n",
       "      <th>volume</th>\n",
       "      <th>trading_volume</th>\n",
       "    </tr>\n",
       "    <tr>\n",
       "      <th>date</th>\n",
       "      <th></th>\n",
       "      <th></th>\n",
       "      <th></th>\n",
       "      <th></th>\n",
       "      <th></th>\n",
       "      <th></th>\n",
       "    </tr>\n",
       "  </thead>\n",
       "  <tbody>\n",
       "    <tr>\n",
       "      <th>2018-01-02</th>\n",
       "      <td>177.68</td>\n",
       "      <td>181.58</td>\n",
       "      <td>177.5500</td>\n",
       "      <td>181.42</td>\n",
       "      <td>18151903</td>\n",
       "      <td>low</td>\n",
       "    </tr>\n",
       "    <tr>\n",
       "      <th>2018-01-03</th>\n",
       "      <td>181.88</td>\n",
       "      <td>184.78</td>\n",
       "      <td>181.3300</td>\n",
       "      <td>184.67</td>\n",
       "      <td>16886563</td>\n",
       "      <td>low</td>\n",
       "    </tr>\n",
       "    <tr>\n",
       "      <th>2018-01-04</th>\n",
       "      <td>184.90</td>\n",
       "      <td>186.21</td>\n",
       "      <td>184.0996</td>\n",
       "      <td>184.33</td>\n",
       "      <td>13880896</td>\n",
       "      <td>low</td>\n",
       "    </tr>\n",
       "    <tr>\n",
       "      <th>2018-01-05</th>\n",
       "      <td>185.59</td>\n",
       "      <td>186.90</td>\n",
       "      <td>184.9300</td>\n",
       "      <td>186.85</td>\n",
       "      <td>13574535</td>\n",
       "      <td>low</td>\n",
       "    </tr>\n",
       "    <tr>\n",
       "      <th>2018-01-08</th>\n",
       "      <td>187.20</td>\n",
       "      <td>188.90</td>\n",
       "      <td>186.3300</td>\n",
       "      <td>188.28</td>\n",
       "      <td>17994726</td>\n",
       "      <td>low</td>\n",
       "    </tr>\n",
       "  </tbody>\n",
       "</table>\n",
       "</div>"
      ],
      "text/plain": [
       "              open    high       low   close    volume trading_volume\n",
       "date                                                                 \n",
       "2018-01-02  177.68  181.58  177.5500  181.42  18151903            low\n",
       "2018-01-03  181.88  184.78  181.3300  184.67  16886563            low\n",
       "2018-01-04  184.90  186.21  184.0996  184.33  13880896            low\n",
       "2018-01-05  185.59  186.90  184.9300  186.85  13574535            low\n",
       "2018-01-08  187.20  188.90  186.3300  188.28  17994726            low"
      ]
     },
     "execution_count": 1,
     "metadata": {},
     "output_type": "execute_result"
    }
   ],
   "source": [
    "import numpy as np\n",
    "import pandas as pd\n",
    "\n",
    "fb = pd.read_csv('data/fb_2018.csv', index_col='date', parse_dates=True).assign(\n",
    "    trading_volume=lambda x: pd.cut(x.volume, bins=3, labels=['low', 'med', 'high'])\n",
    ")\n",
    "fb.head()"
   ]
  },
  {
   "cell_type": "markdown",
   "metadata": {},
   "source": [
    "## Time-based selection and filtering\n",
    "Remember, when we have an index of type `DatetimeIndex`, we can use datetime slicing. We can provide a range of dates. We only get three days back because the stock market is closed on the weekends:"
   ]
  },
  {
   "cell_type": "code",
   "execution_count": 2,
   "metadata": {},
   "outputs": [
    {
     "data": {
      "text/html": [
       "<div>\n",
       "<style scoped>\n",
       "    .dataframe tbody tr th:only-of-type {\n",
       "        vertical-align: middle;\n",
       "    }\n",
       "\n",
       "    .dataframe tbody tr th {\n",
       "        vertical-align: top;\n",
       "    }\n",
       "\n",
       "    .dataframe thead th {\n",
       "        text-align: right;\n",
       "    }\n",
       "</style>\n",
       "<table border=\"1\" class=\"dataframe\">\n",
       "  <thead>\n",
       "    <tr style=\"text-align: right;\">\n",
       "      <th></th>\n",
       "      <th>open</th>\n",
       "      <th>high</th>\n",
       "      <th>low</th>\n",
       "      <th>close</th>\n",
       "      <th>volume</th>\n",
       "      <th>trading_volume</th>\n",
       "    </tr>\n",
       "    <tr>\n",
       "      <th>date</th>\n",
       "      <th></th>\n",
       "      <th></th>\n",
       "      <th></th>\n",
       "      <th></th>\n",
       "      <th></th>\n",
       "      <th></th>\n",
       "    </tr>\n",
       "  </thead>\n",
       "  <tbody>\n",
       "    <tr>\n",
       "      <th>2018-10-11</th>\n",
       "      <td>150.13</td>\n",
       "      <td>154.81</td>\n",
       "      <td>149.1600</td>\n",
       "      <td>153.35</td>\n",
       "      <td>35338901</td>\n",
       "      <td>low</td>\n",
       "    </tr>\n",
       "    <tr>\n",
       "      <th>2018-10-12</th>\n",
       "      <td>156.73</td>\n",
       "      <td>156.89</td>\n",
       "      <td>151.2998</td>\n",
       "      <td>153.74</td>\n",
       "      <td>25293492</td>\n",
       "      <td>low</td>\n",
       "    </tr>\n",
       "    <tr>\n",
       "      <th>2018-10-15</th>\n",
       "      <td>153.32</td>\n",
       "      <td>155.57</td>\n",
       "      <td>152.5500</td>\n",
       "      <td>153.52</td>\n",
       "      <td>15433521</td>\n",
       "      <td>low</td>\n",
       "    </tr>\n",
       "  </tbody>\n",
       "</table>\n",
       "</div>"
      ],
      "text/plain": [
       "              open    high       low   close    volume trading_volume\n",
       "date                                                                 \n",
       "2018-10-11  150.13  154.81  149.1600  153.35  35338901            low\n",
       "2018-10-12  156.73  156.89  151.2998  153.74  25293492            low\n",
       "2018-10-15  153.32  155.57  152.5500  153.52  15433521            low"
      ]
     },
     "execution_count": 2,
     "metadata": {},
     "output_type": "execute_result"
    }
   ],
   "source": [
    "fb['2018-10-11':'2018-10-15']"
   ]
  },
  {
   "cell_type": "markdown",
   "metadata": {},
   "source": [
    "We can select ranges of months and quarters:"
   ]
  },
  {
   "cell_type": "code",
   "execution_count": 3,
   "metadata": {},
   "outputs": [
    {
     "data": {
      "text/plain": [
       "True"
      ]
     },
     "execution_count": 3,
     "metadata": {},
     "output_type": "execute_result"
    }
   ],
   "source": [
    "fb.loc['2018-q1'].equals(fb['2018-01':'2018-03'])"
   ]
  },
  {
   "cell_type": "markdown",
   "metadata": {},
   "source": [
    "The `first()` method will give us a specified length of time from the beginning of the time series. Here, we ask for a week. January 1, 2018 was a holiday—meaning the market was closed. It was also a Monday, so the week here is only four days:"
   ]
  },
  {
   "cell_type": "code",
   "execution_count": 4,
   "metadata": {},
   "outputs": [
    {
     "data": {
      "text/html": [
       "<div>\n",
       "<style scoped>\n",
       "    .dataframe tbody tr th:only-of-type {\n",
       "        vertical-align: middle;\n",
       "    }\n",
       "\n",
       "    .dataframe tbody tr th {\n",
       "        vertical-align: top;\n",
       "    }\n",
       "\n",
       "    .dataframe thead th {\n",
       "        text-align: right;\n",
       "    }\n",
       "</style>\n",
       "<table border=\"1\" class=\"dataframe\">\n",
       "  <thead>\n",
       "    <tr style=\"text-align: right;\">\n",
       "      <th></th>\n",
       "      <th>open</th>\n",
       "      <th>high</th>\n",
       "      <th>low</th>\n",
       "      <th>close</th>\n",
       "      <th>volume</th>\n",
       "      <th>trading_volume</th>\n",
       "    </tr>\n",
       "    <tr>\n",
       "      <th>date</th>\n",
       "      <th></th>\n",
       "      <th></th>\n",
       "      <th></th>\n",
       "      <th></th>\n",
       "      <th></th>\n",
       "      <th></th>\n",
       "    </tr>\n",
       "  </thead>\n",
       "  <tbody>\n",
       "    <tr>\n",
       "      <th>2018-01-02</th>\n",
       "      <td>177.68</td>\n",
       "      <td>181.58</td>\n",
       "      <td>177.5500</td>\n",
       "      <td>181.42</td>\n",
       "      <td>18151903</td>\n",
       "      <td>low</td>\n",
       "    </tr>\n",
       "    <tr>\n",
       "      <th>2018-01-03</th>\n",
       "      <td>181.88</td>\n",
       "      <td>184.78</td>\n",
       "      <td>181.3300</td>\n",
       "      <td>184.67</td>\n",
       "      <td>16886563</td>\n",
       "      <td>low</td>\n",
       "    </tr>\n",
       "    <tr>\n",
       "      <th>2018-01-04</th>\n",
       "      <td>184.90</td>\n",
       "      <td>186.21</td>\n",
       "      <td>184.0996</td>\n",
       "      <td>184.33</td>\n",
       "      <td>13880896</td>\n",
       "      <td>low</td>\n",
       "    </tr>\n",
       "    <tr>\n",
       "      <th>2018-01-05</th>\n",
       "      <td>185.59</td>\n",
       "      <td>186.90</td>\n",
       "      <td>184.9300</td>\n",
       "      <td>186.85</td>\n",
       "      <td>13574535</td>\n",
       "      <td>low</td>\n",
       "    </tr>\n",
       "  </tbody>\n",
       "</table>\n",
       "</div>"
      ],
      "text/plain": [
       "              open    high       low   close    volume trading_volume\n",
       "date                                                                 \n",
       "2018-01-02  177.68  181.58  177.5500  181.42  18151903            low\n",
       "2018-01-03  181.88  184.78  181.3300  184.67  16886563            low\n",
       "2018-01-04  184.90  186.21  184.0996  184.33  13880896            low\n",
       "2018-01-05  185.59  186.90  184.9300  186.85  13574535            low"
      ]
     },
     "execution_count": 4,
     "metadata": {},
     "output_type": "execute_result"
    }
   ],
   "source": [
    "fb.first('1W')"
   ]
  },
  {
   "cell_type": "markdown",
   "metadata": {},
   "source": [
    "The `last()` method will take from the end:"
   ]
  },
  {
   "cell_type": "code",
   "execution_count": 5,
   "metadata": {},
   "outputs": [
    {
     "data": {
      "text/html": [
       "<div>\n",
       "<style scoped>\n",
       "    .dataframe tbody tr th:only-of-type {\n",
       "        vertical-align: middle;\n",
       "    }\n",
       "\n",
       "    .dataframe tbody tr th {\n",
       "        vertical-align: top;\n",
       "    }\n",
       "\n",
       "    .dataframe thead th {\n",
       "        text-align: right;\n",
       "    }\n",
       "</style>\n",
       "<table border=\"1\" class=\"dataframe\">\n",
       "  <thead>\n",
       "    <tr style=\"text-align: right;\">\n",
       "      <th></th>\n",
       "      <th>open</th>\n",
       "      <th>high</th>\n",
       "      <th>low</th>\n",
       "      <th>close</th>\n",
       "      <th>volume</th>\n",
       "      <th>trading_volume</th>\n",
       "    </tr>\n",
       "    <tr>\n",
       "      <th>date</th>\n",
       "      <th></th>\n",
       "      <th></th>\n",
       "      <th></th>\n",
       "      <th></th>\n",
       "      <th></th>\n",
       "      <th></th>\n",
       "    </tr>\n",
       "  </thead>\n",
       "  <tbody>\n",
       "    <tr>\n",
       "      <th>2018-12-31</th>\n",
       "      <td>134.45</td>\n",
       "      <td>134.64</td>\n",
       "      <td>129.95</td>\n",
       "      <td>131.09</td>\n",
       "      <td>24625308</td>\n",
       "      <td>low</td>\n",
       "    </tr>\n",
       "  </tbody>\n",
       "</table>\n",
       "</div>"
      ],
      "text/plain": [
       "              open    high     low   close    volume trading_volume\n",
       "date                                                               \n",
       "2018-12-31  134.45  134.64  129.95  131.09  24625308            low"
      ]
     },
     "execution_count": 5,
     "metadata": {},
     "output_type": "execute_result"
    }
   ],
   "source": [
    "fb.last('1W')"
   ]
  },
  {
   "cell_type": "markdown",
   "metadata": {},
   "source": [
    "Suppose that we reindexed the Facebook stock data to include all dates for 2018. We would have null entries for January 1st:"
   ]
  },
  {
   "cell_type": "code",
   "execution_count": 6,
   "metadata": {},
   "outputs": [
    {
     "data": {
      "text/plain": [
       "True"
      ]
     },
     "execution_count": 6,
     "metadata": {},
     "output_type": "execute_result"
    }
   ],
   "source": [
    "fb_reindexed = fb.reindex(pd.date_range('2018-01-01', '2018-12-31', freq='D'))\n",
    "fb_reindexed.first('1D').isna().squeeze().all()"
   ]
  },
  {
   "cell_type": "markdown",
   "metadata": {},
   "source": [
    "We can use `first_valid_index()` to give us the index of the first non-null entry in our data, which is the first day the market was open in Q1 2018:"
   ]
  },
  {
   "cell_type": "code",
   "execution_count": 7,
   "metadata": {},
   "outputs": [
    {
     "data": {
      "text/plain": [
       "Timestamp('2018-01-02 00:00:00', freq='D')"
      ]
     },
     "execution_count": 7,
     "metadata": {},
     "output_type": "execute_result"
    }
   ],
   "source": [
    "fb_reindexed.loc['2018-Q1'].first_valid_index()"
   ]
  },
  {
   "cell_type": "markdown",
   "metadata": {},
   "source": [
    "Conversely, we can use `last_valid_index()` to get the last entry of non-null data. For Q1 2018, this is March 29th:"
   ]
  },
  {
   "cell_type": "code",
   "execution_count": 8,
   "metadata": {},
   "outputs": [
    {
     "data": {
      "text/plain": [
       "Timestamp('2018-03-29 00:00:00', freq='D')"
      ]
     },
     "execution_count": 8,
     "metadata": {},
     "output_type": "execute_result"
    }
   ],
   "source": [
    "fb_reindexed.loc['2018-Q1'].last_valid_index()"
   ]
  },
  {
   "cell_type": "markdown",
   "metadata": {},
   "source": [
    "We can use `asof()` to find the last non-null data before the point we are looking for. If we ask for March 31st, we will get the data from the index we got from `fb_reindexed.loc['2018-Q1'].last_valid_index()`, which was March 29th. Note that this works regardless of whether we reindexed:"
   ]
  },
  {
   "cell_type": "code",
   "execution_count": 9,
   "metadata": {},
   "outputs": [
    {
     "data": {
      "text/plain": [
       "open                   155.15\n",
       "high                   161.42\n",
       "low                    154.14\n",
       "close                  159.79\n",
       "volume            59434293.00\n",
       "trading_volume            low\n",
       "Name: 2018-03-31 00:00:00, dtype: object"
      ]
     },
     "execution_count": 9,
     "metadata": {},
     "output_type": "execute_result"
    }
   ],
   "source": [
    "fb_reindexed.asof('2018-03-31')"
   ]
  },
  {
   "cell_type": "markdown",
   "metadata": {},
   "source": [
    "For the next few examples, we need datetimes, so we will read in the stock data per minute file:"
   ]
  },
  {
   "cell_type": "code",
   "execution_count": 10,
   "metadata": {},
   "outputs": [
    {
     "data": {
      "text/html": [
       "<div>\n",
       "<style scoped>\n",
       "    .dataframe tbody tr th:only-of-type {\n",
       "        vertical-align: middle;\n",
       "    }\n",
       "\n",
       "    .dataframe tbody tr th {\n",
       "        vertical-align: top;\n",
       "    }\n",
       "\n",
       "    .dataframe thead th {\n",
       "        text-align: right;\n",
       "    }\n",
       "</style>\n",
       "<table border=\"1\" class=\"dataframe\">\n",
       "  <thead>\n",
       "    <tr style=\"text-align: right;\">\n",
       "      <th></th>\n",
       "      <th>open</th>\n",
       "      <th>high</th>\n",
       "      <th>low</th>\n",
       "      <th>close</th>\n",
       "      <th>volume</th>\n",
       "    </tr>\n",
       "    <tr>\n",
       "      <th>date</th>\n",
       "      <th></th>\n",
       "      <th></th>\n",
       "      <th></th>\n",
       "      <th></th>\n",
       "      <th></th>\n",
       "    </tr>\n",
       "  </thead>\n",
       "  <tbody>\n",
       "    <tr>\n",
       "      <th>2019-05-20 09:30:00</th>\n",
       "      <td>181.6200</td>\n",
       "      <td>181.6200</td>\n",
       "      <td>181.6200</td>\n",
       "      <td>181.6200</td>\n",
       "      <td>159049.0</td>\n",
       "    </tr>\n",
       "    <tr>\n",
       "      <th>2019-05-20 09:31:00</th>\n",
       "      <td>182.6100</td>\n",
       "      <td>182.6100</td>\n",
       "      <td>182.6100</td>\n",
       "      <td>182.6100</td>\n",
       "      <td>468017.0</td>\n",
       "    </tr>\n",
       "    <tr>\n",
       "      <th>2019-05-20 09:32:00</th>\n",
       "      <td>182.7458</td>\n",
       "      <td>182.7458</td>\n",
       "      <td>182.7458</td>\n",
       "      <td>182.7458</td>\n",
       "      <td>97258.0</td>\n",
       "    </tr>\n",
       "    <tr>\n",
       "      <th>2019-05-20 09:33:00</th>\n",
       "      <td>182.9500</td>\n",
       "      <td>182.9500</td>\n",
       "      <td>182.9500</td>\n",
       "      <td>182.9500</td>\n",
       "      <td>43961.0</td>\n",
       "    </tr>\n",
       "    <tr>\n",
       "      <th>2019-05-20 09:34:00</th>\n",
       "      <td>183.0600</td>\n",
       "      <td>183.0600</td>\n",
       "      <td>183.0600</td>\n",
       "      <td>183.0600</td>\n",
       "      <td>79562.0</td>\n",
       "    </tr>\n",
       "  </tbody>\n",
       "</table>\n",
       "</div>"
      ],
      "text/plain": [
       "                         open      high       low     close    volume\n",
       "date                                                                 \n",
       "2019-05-20 09:30:00  181.6200  181.6200  181.6200  181.6200  159049.0\n",
       "2019-05-20 09:31:00  182.6100  182.6100  182.6100  182.6100  468017.0\n",
       "2019-05-20 09:32:00  182.7458  182.7458  182.7458  182.7458   97258.0\n",
       "2019-05-20 09:33:00  182.9500  182.9500  182.9500  182.9500   43961.0\n",
       "2019-05-20 09:34:00  183.0600  183.0600  183.0600  183.0600   79562.0"
      ]
     },
     "execution_count": 10,
     "metadata": {},
     "output_type": "execute_result"
    }
   ],
   "source": [
    "stock_data_per_minute = pd.read_csv(\n",
    "    'data/fb_week_of_may_20_per_minute.csv', index_col='date', parse_dates=True, \n",
    "    date_parser=lambda x: pd.to_datetime(x, format='%Y-%m-%d %H-%M')\n",
    ")\n",
    "\n",
    "stock_data_per_minute.head()"
   ]
  },
  {
   "cell_type": "markdown",
   "metadata": {},
   "source": [
    "We can use a `Grouper` object to roll up our data to the daily level along with `first` and `last`:"
   ]
  },
  {
   "cell_type": "code",
   "execution_count": 11,
   "metadata": {},
   "outputs": [
    {
     "data": {
      "text/html": [
       "<div>\n",
       "<style scoped>\n",
       "    .dataframe tbody tr th:only-of-type {\n",
       "        vertical-align: middle;\n",
       "    }\n",
       "\n",
       "    .dataframe tbody tr th {\n",
       "        vertical-align: top;\n",
       "    }\n",
       "\n",
       "    .dataframe thead th {\n",
       "        text-align: right;\n",
       "    }\n",
       "</style>\n",
       "<table border=\"1\" class=\"dataframe\">\n",
       "  <thead>\n",
       "    <tr style=\"text-align: right;\">\n",
       "      <th></th>\n",
       "      <th>open</th>\n",
       "      <th>high</th>\n",
       "      <th>low</th>\n",
       "      <th>close</th>\n",
       "      <th>volume</th>\n",
       "    </tr>\n",
       "    <tr>\n",
       "      <th>date</th>\n",
       "      <th></th>\n",
       "      <th></th>\n",
       "      <th></th>\n",
       "      <th></th>\n",
       "      <th></th>\n",
       "    </tr>\n",
       "  </thead>\n",
       "  <tbody>\n",
       "    <tr>\n",
       "      <th>2019-05-20</th>\n",
       "      <td>181.62</td>\n",
       "      <td>184.1800</td>\n",
       "      <td>181.6200</td>\n",
       "      <td>182.72</td>\n",
       "      <td>10044838.0</td>\n",
       "    </tr>\n",
       "    <tr>\n",
       "      <th>2019-05-21</th>\n",
       "      <td>184.53</td>\n",
       "      <td>185.5800</td>\n",
       "      <td>183.9700</td>\n",
       "      <td>184.82</td>\n",
       "      <td>7198405.0</td>\n",
       "    </tr>\n",
       "    <tr>\n",
       "      <th>2019-05-22</th>\n",
       "      <td>184.81</td>\n",
       "      <td>186.5603</td>\n",
       "      <td>184.0120</td>\n",
       "      <td>185.32</td>\n",
       "      <td>8412433.0</td>\n",
       "    </tr>\n",
       "    <tr>\n",
       "      <th>2019-05-23</th>\n",
       "      <td>182.50</td>\n",
       "      <td>183.7300</td>\n",
       "      <td>179.7559</td>\n",
       "      <td>180.87</td>\n",
       "      <td>12479171.0</td>\n",
       "    </tr>\n",
       "    <tr>\n",
       "      <th>2019-05-24</th>\n",
       "      <td>182.33</td>\n",
       "      <td>183.5227</td>\n",
       "      <td>181.0400</td>\n",
       "      <td>181.06</td>\n",
       "      <td>7686030.0</td>\n",
       "    </tr>\n",
       "  </tbody>\n",
       "</table>\n",
       "</div>"
      ],
      "text/plain": [
       "              open      high       low   close      volume\n",
       "date                                                      \n",
       "2019-05-20  181.62  184.1800  181.6200  182.72  10044838.0\n",
       "2019-05-21  184.53  185.5800  183.9700  184.82   7198405.0\n",
       "2019-05-22  184.81  186.5603  184.0120  185.32   8412433.0\n",
       "2019-05-23  182.50  183.7300  179.7559  180.87  12479171.0\n",
       "2019-05-24  182.33  183.5227  181.0400  181.06   7686030.0"
      ]
     },
     "execution_count": 11,
     "metadata": {},
     "output_type": "execute_result"
    }
   ],
   "source": [
    "stock_data_per_minute.groupby(pd.Grouper(freq='1D')).agg({\n",
    "    'open': 'first',\n",
    "    'high': 'max', \n",
    "    'low': 'min', \n",
    "    'close': 'last', \n",
    "    'volume': 'sum'\n",
    "})"
   ]
  },
  {
   "cell_type": "markdown",
   "metadata": {},
   "source": [
    "The `at_time()` method allows us to pull out all datetimes that match a certain time. Here, we can grab all the rows from the time the stock market opens (9:30 AM):"
   ]
  },
  {
   "cell_type": "code",
   "execution_count": 12,
   "metadata": {},
   "outputs": [
    {
     "data": {
      "text/html": [
       "<div>\n",
       "<style scoped>\n",
       "    .dataframe tbody tr th:only-of-type {\n",
       "        vertical-align: middle;\n",
       "    }\n",
       "\n",
       "    .dataframe tbody tr th {\n",
       "        vertical-align: top;\n",
       "    }\n",
       "\n",
       "    .dataframe thead th {\n",
       "        text-align: right;\n",
       "    }\n",
       "</style>\n",
       "<table border=\"1\" class=\"dataframe\">\n",
       "  <thead>\n",
       "    <tr style=\"text-align: right;\">\n",
       "      <th></th>\n",
       "      <th>open</th>\n",
       "      <th>high</th>\n",
       "      <th>low</th>\n",
       "      <th>close</th>\n",
       "      <th>volume</th>\n",
       "    </tr>\n",
       "    <tr>\n",
       "      <th>date</th>\n",
       "      <th></th>\n",
       "      <th></th>\n",
       "      <th></th>\n",
       "      <th></th>\n",
       "      <th></th>\n",
       "    </tr>\n",
       "  </thead>\n",
       "  <tbody>\n",
       "    <tr>\n",
       "      <th>2019-05-20 09:30:00</th>\n",
       "      <td>181.62</td>\n",
       "      <td>181.62</td>\n",
       "      <td>181.62</td>\n",
       "      <td>181.62</td>\n",
       "      <td>159049.0</td>\n",
       "    </tr>\n",
       "    <tr>\n",
       "      <th>2019-05-21 09:30:00</th>\n",
       "      <td>184.53</td>\n",
       "      <td>184.53</td>\n",
       "      <td>184.53</td>\n",
       "      <td>184.53</td>\n",
       "      <td>58171.0</td>\n",
       "    </tr>\n",
       "    <tr>\n",
       "      <th>2019-05-22 09:30:00</th>\n",
       "      <td>184.81</td>\n",
       "      <td>184.81</td>\n",
       "      <td>184.81</td>\n",
       "      <td>184.81</td>\n",
       "      <td>41585.0</td>\n",
       "    </tr>\n",
       "    <tr>\n",
       "      <th>2019-05-23 09:30:00</th>\n",
       "      <td>182.50</td>\n",
       "      <td>182.50</td>\n",
       "      <td>182.50</td>\n",
       "      <td>182.50</td>\n",
       "      <td>121930.0</td>\n",
       "    </tr>\n",
       "    <tr>\n",
       "      <th>2019-05-24 09:30:00</th>\n",
       "      <td>182.33</td>\n",
       "      <td>182.33</td>\n",
       "      <td>182.33</td>\n",
       "      <td>182.33</td>\n",
       "      <td>52681.0</td>\n",
       "    </tr>\n",
       "  </tbody>\n",
       "</table>\n",
       "</div>"
      ],
      "text/plain": [
       "                       open    high     low   close    volume\n",
       "date                                                         \n",
       "2019-05-20 09:30:00  181.62  181.62  181.62  181.62  159049.0\n",
       "2019-05-21 09:30:00  184.53  184.53  184.53  184.53   58171.0\n",
       "2019-05-22 09:30:00  184.81  184.81  184.81  184.81   41585.0\n",
       "2019-05-23 09:30:00  182.50  182.50  182.50  182.50  121930.0\n",
       "2019-05-24 09:30:00  182.33  182.33  182.33  182.33   52681.0"
      ]
     },
     "execution_count": 12,
     "metadata": {},
     "output_type": "execute_result"
    }
   ],
   "source": [
    "stock_data_per_minute.at_time('9:30')"
   ]
  },
  {
   "cell_type": "markdown",
   "metadata": {},
   "source": [
    "We can use `between_time()` to grab data for the last two minutes of trading daily:"
   ]
  },
  {
   "cell_type": "code",
   "execution_count": 13,
   "metadata": {},
   "outputs": [
    {
     "data": {
      "text/html": [
       "<div>\n",
       "<style scoped>\n",
       "    .dataframe tbody tr th:only-of-type {\n",
       "        vertical-align: middle;\n",
       "    }\n",
       "\n",
       "    .dataframe tbody tr th {\n",
       "        vertical-align: top;\n",
       "    }\n",
       "\n",
       "    .dataframe thead th {\n",
       "        text-align: right;\n",
       "    }\n",
       "</style>\n",
       "<table border=\"1\" class=\"dataframe\">\n",
       "  <thead>\n",
       "    <tr style=\"text-align: right;\">\n",
       "      <th></th>\n",
       "      <th>open</th>\n",
       "      <th>high</th>\n",
       "      <th>low</th>\n",
       "      <th>close</th>\n",
       "      <th>volume</th>\n",
       "    </tr>\n",
       "    <tr>\n",
       "      <th>date</th>\n",
       "      <th></th>\n",
       "      <th></th>\n",
       "      <th></th>\n",
       "      <th></th>\n",
       "      <th></th>\n",
       "    </tr>\n",
       "  </thead>\n",
       "  <tbody>\n",
       "    <tr>\n",
       "      <th>2019-05-20 15:59:00</th>\n",
       "      <td>182.915</td>\n",
       "      <td>182.915</td>\n",
       "      <td>182.915</td>\n",
       "      <td>182.915</td>\n",
       "      <td>134569.0</td>\n",
       "    </tr>\n",
       "    <tr>\n",
       "      <th>2019-05-20 16:00:00</th>\n",
       "      <td>182.720</td>\n",
       "      <td>182.720</td>\n",
       "      <td>182.720</td>\n",
       "      <td>182.720</td>\n",
       "      <td>1113672.0</td>\n",
       "    </tr>\n",
       "    <tr>\n",
       "      <th>2019-05-21 15:59:00</th>\n",
       "      <td>184.840</td>\n",
       "      <td>184.840</td>\n",
       "      <td>184.840</td>\n",
       "      <td>184.840</td>\n",
       "      <td>61606.0</td>\n",
       "    </tr>\n",
       "    <tr>\n",
       "      <th>2019-05-21 16:00:00</th>\n",
       "      <td>184.820</td>\n",
       "      <td>184.820</td>\n",
       "      <td>184.820</td>\n",
       "      <td>184.820</td>\n",
       "      <td>801080.0</td>\n",
       "    </tr>\n",
       "    <tr>\n",
       "      <th>2019-05-22 15:59:00</th>\n",
       "      <td>185.290</td>\n",
       "      <td>185.290</td>\n",
       "      <td>185.290</td>\n",
       "      <td>185.290</td>\n",
       "      <td>96099.0</td>\n",
       "    </tr>\n",
       "    <tr>\n",
       "      <th>2019-05-22 16:00:00</th>\n",
       "      <td>185.320</td>\n",
       "      <td>185.320</td>\n",
       "      <td>185.320</td>\n",
       "      <td>185.320</td>\n",
       "      <td>1220993.0</td>\n",
       "    </tr>\n",
       "    <tr>\n",
       "      <th>2019-05-23 15:59:00</th>\n",
       "      <td>180.720</td>\n",
       "      <td>180.720</td>\n",
       "      <td>180.720</td>\n",
       "      <td>180.720</td>\n",
       "      <td>109648.0</td>\n",
       "    </tr>\n",
       "    <tr>\n",
       "      <th>2019-05-23 16:00:00</th>\n",
       "      <td>180.870</td>\n",
       "      <td>180.870</td>\n",
       "      <td>180.870</td>\n",
       "      <td>180.870</td>\n",
       "      <td>1329217.0</td>\n",
       "    </tr>\n",
       "    <tr>\n",
       "      <th>2019-05-24 15:59:00</th>\n",
       "      <td>181.070</td>\n",
       "      <td>181.070</td>\n",
       "      <td>181.070</td>\n",
       "      <td>181.070</td>\n",
       "      <td>52994.0</td>\n",
       "    </tr>\n",
       "    <tr>\n",
       "      <th>2019-05-24 16:00:00</th>\n",
       "      <td>181.060</td>\n",
       "      <td>181.060</td>\n",
       "      <td>181.060</td>\n",
       "      <td>181.060</td>\n",
       "      <td>764906.0</td>\n",
       "    </tr>\n",
       "  </tbody>\n",
       "</table>\n",
       "</div>"
      ],
      "text/plain": [
       "                        open     high      low    close     volume\n",
       "date                                                              \n",
       "2019-05-20 15:59:00  182.915  182.915  182.915  182.915   134569.0\n",
       "2019-05-20 16:00:00  182.720  182.720  182.720  182.720  1113672.0\n",
       "2019-05-21 15:59:00  184.840  184.840  184.840  184.840    61606.0\n",
       "2019-05-21 16:00:00  184.820  184.820  184.820  184.820   801080.0\n",
       "2019-05-22 15:59:00  185.290  185.290  185.290  185.290    96099.0\n",
       "2019-05-22 16:00:00  185.320  185.320  185.320  185.320  1220993.0\n",
       "2019-05-23 15:59:00  180.720  180.720  180.720  180.720   109648.0\n",
       "2019-05-23 16:00:00  180.870  180.870  180.870  180.870  1329217.0\n",
       "2019-05-24 15:59:00  181.070  181.070  181.070  181.070    52994.0\n",
       "2019-05-24 16:00:00  181.060  181.060  181.060  181.060   764906.0"
      ]
     },
     "execution_count": 13,
     "metadata": {},
     "output_type": "execute_result"
    }
   ],
   "source": [
    "stock_data_per_minute.between_time('15:59', '16:00')"
   ]
  },
  {
   "cell_type": "markdown",
   "metadata": {},
   "source": [
    "On average, are more shares traded within the first 30 minutes of trading or in the last 30 minutes? We can combine `between_time()` with `group_by()` and `filter()` from the [`3-aggregations.ipynb`](./3-aggregations.ipynb) notebook to answer this question. For the week in question, more are traded on average around opening time than closing time:"
   ]
  },
  {
   "cell_type": "code",
   "execution_count": 14,
   "metadata": {},
   "outputs": [
    {
     "data": {
      "text/plain": [
       "18592.967741935485"
      ]
     },
     "execution_count": 14,
     "metadata": {},
     "output_type": "execute_result"
    }
   ],
   "source": [
    "shares_traded_in_first_30_min = stock_data_per_minute\\\n",
    "    .between_time('9:30', '10:00')\\\n",
    "    .groupby(pd.Grouper(freq='1D'))\\\n",
    "    .filter(lambda x: (x.volume > 0).all())\\\n",
    "    .volume.mean()\n",
    "\n",
    "shares_traded_in_last_30_min = stock_data_per_minute\\\n",
    "    .between_time('15:30', '16:00')\\\n",
    "    .groupby(pd.Grouper(freq='1D'))\\\n",
    "    .filter(lambda x: (x.volume > 0).all())\\\n",
    "    .volume.mean()\n",
    "\n",
    "shares_traded_in_first_30_min - shares_traded_in_last_30_min"
   ]
  },
  {
   "cell_type": "markdown",
   "metadata": {},
   "source": [
    "In cases where time doesn't matter, we can normalize the times to midnight:"
   ]
  },
  {
   "cell_type": "code",
   "execution_count": 15,
   "metadata": {},
   "outputs": [
    {
     "data": {
      "text/html": [
       "<div>\n",
       "<style scoped>\n",
       "    .dataframe tbody tr th:only-of-type {\n",
       "        vertical-align: middle;\n",
       "    }\n",
       "\n",
       "    .dataframe tbody tr th {\n",
       "        vertical-align: top;\n",
       "    }\n",
       "\n",
       "    .dataframe thead th {\n",
       "        text-align: right;\n",
       "    }\n",
       "</style>\n",
       "<table border=\"1\" class=\"dataframe\">\n",
       "  <thead>\n",
       "    <tr style=\"text-align: right;\">\n",
       "      <th></th>\n",
       "      <th>before</th>\n",
       "      <th>after</th>\n",
       "    </tr>\n",
       "  </thead>\n",
       "  <tbody>\n",
       "    <tr>\n",
       "      <th>0</th>\n",
       "      <td>2019-05-20 09:30:00</td>\n",
       "      <td>2019-05-20</td>\n",
       "    </tr>\n",
       "    <tr>\n",
       "      <th>1</th>\n",
       "      <td>2019-05-20 09:31:00</td>\n",
       "      <td>2019-05-20</td>\n",
       "    </tr>\n",
       "    <tr>\n",
       "      <th>2</th>\n",
       "      <td>2019-05-20 09:32:00</td>\n",
       "      <td>2019-05-20</td>\n",
       "    </tr>\n",
       "    <tr>\n",
       "      <th>3</th>\n",
       "      <td>2019-05-20 09:33:00</td>\n",
       "      <td>2019-05-20</td>\n",
       "    </tr>\n",
       "    <tr>\n",
       "      <th>4</th>\n",
       "      <td>2019-05-20 09:34:00</td>\n",
       "      <td>2019-05-20</td>\n",
       "    </tr>\n",
       "  </tbody>\n",
       "</table>\n",
       "</div>"
      ],
      "text/plain": [
       "               before      after\n",
       "0 2019-05-20 09:30:00 2019-05-20\n",
       "1 2019-05-20 09:31:00 2019-05-20\n",
       "2 2019-05-20 09:32:00 2019-05-20\n",
       "3 2019-05-20 09:33:00 2019-05-20\n",
       "4 2019-05-20 09:34:00 2019-05-20"
      ]
     },
     "execution_count": 15,
     "metadata": {},
     "output_type": "execute_result"
    }
   ],
   "source": [
    "pd.DataFrame(\n",
    "    dict(before=stock_data_per_minute.index, after=stock_data_per_minute.index.normalize())\n",
    ").head()"
   ]
  },
  {
   "cell_type": "markdown",
   "metadata": {},
   "source": [
    "Note that we can also use `normalize()` on a `Series` object after accessing the `dt` attribute:"
   ]
  },
  {
   "cell_type": "code",
   "execution_count": 16,
   "metadata": {},
   "outputs": [
    {
     "data": {
      "text/plain": [
       "date\n",
       "2019-05-20 09:30:00   2019-05-20\n",
       "2019-05-20 09:31:00   2019-05-20\n",
       "2019-05-20 09:32:00   2019-05-20\n",
       "2019-05-20 09:33:00   2019-05-20\n",
       "2019-05-20 09:34:00   2019-05-20\n",
       "Name: date, dtype: datetime64[ns]"
      ]
     },
     "execution_count": 16,
     "metadata": {},
     "output_type": "execute_result"
    }
   ],
   "source": [
    "stock_data_per_minute.index.to_series().dt.normalize().head()"
   ]
  },
  {
   "cell_type": "markdown",
   "metadata": {},
   "source": [
    "## Shifting for lagged data\n",
    "We can use `shift()` to create lagged data. By default, the shift will be one period. For example, we can use `shift()` to create a new column that indicates the previous day's closing price. From this new column, we can calculate the price change due to after-hours trading (after the close one day right up to the open the following day):"
   ]
  },
  {
   "cell_type": "code",
   "execution_count": 17,
   "metadata": {},
   "outputs": [
    {
     "data": {
      "text/html": [
       "<div>\n",
       "<style scoped>\n",
       "    .dataframe tbody tr th:only-of-type {\n",
       "        vertical-align: middle;\n",
       "    }\n",
       "\n",
       "    .dataframe tbody tr th {\n",
       "        vertical-align: top;\n",
       "    }\n",
       "\n",
       "    .dataframe thead th {\n",
       "        text-align: right;\n",
       "    }\n",
       "</style>\n",
       "<table border=\"1\" class=\"dataframe\">\n",
       "  <thead>\n",
       "    <tr style=\"text-align: right;\">\n",
       "      <th></th>\n",
       "      <th>open</th>\n",
       "      <th>high</th>\n",
       "      <th>low</th>\n",
       "      <th>close</th>\n",
       "      <th>volume</th>\n",
       "      <th>trading_volume</th>\n",
       "      <th>prior_close</th>\n",
       "      <th>after_hours_change_in_price</th>\n",
       "      <th>abs_change</th>\n",
       "    </tr>\n",
       "    <tr>\n",
       "      <th>date</th>\n",
       "      <th></th>\n",
       "      <th></th>\n",
       "      <th></th>\n",
       "      <th></th>\n",
       "      <th></th>\n",
       "      <th></th>\n",
       "      <th></th>\n",
       "      <th></th>\n",
       "      <th></th>\n",
       "    </tr>\n",
       "  </thead>\n",
       "  <tbody>\n",
       "    <tr>\n",
       "      <th>2018-07-26</th>\n",
       "      <td>174.89</td>\n",
       "      <td>180.13</td>\n",
       "      <td>173.75</td>\n",
       "      <td>176.26</td>\n",
       "      <td>169803668</td>\n",
       "      <td>high</td>\n",
       "      <td>217.50</td>\n",
       "      <td>-42.61</td>\n",
       "      <td>42.61</td>\n",
       "    </tr>\n",
       "    <tr>\n",
       "      <th>2018-04-26</th>\n",
       "      <td>173.22</td>\n",
       "      <td>176.27</td>\n",
       "      <td>170.80</td>\n",
       "      <td>174.16</td>\n",
       "      <td>77556934</td>\n",
       "      <td>med</td>\n",
       "      <td>159.69</td>\n",
       "      <td>13.53</td>\n",
       "      <td>13.53</td>\n",
       "    </tr>\n",
       "    <tr>\n",
       "      <th>2018-01-12</th>\n",
       "      <td>178.06</td>\n",
       "      <td>181.48</td>\n",
       "      <td>177.40</td>\n",
       "      <td>179.37</td>\n",
       "      <td>77551299</td>\n",
       "      <td>med</td>\n",
       "      <td>187.77</td>\n",
       "      <td>-9.71</td>\n",
       "      <td>9.71</td>\n",
       "    </tr>\n",
       "    <tr>\n",
       "      <th>2018-10-31</th>\n",
       "      <td>155.00</td>\n",
       "      <td>156.40</td>\n",
       "      <td>148.96</td>\n",
       "      <td>151.79</td>\n",
       "      <td>60101251</td>\n",
       "      <td>low</td>\n",
       "      <td>146.22</td>\n",
       "      <td>8.78</td>\n",
       "      <td>8.78</td>\n",
       "    </tr>\n",
       "    <tr>\n",
       "      <th>2018-03-19</th>\n",
       "      <td>177.01</td>\n",
       "      <td>177.17</td>\n",
       "      <td>170.06</td>\n",
       "      <td>172.56</td>\n",
       "      <td>88140060</td>\n",
       "      <td>med</td>\n",
       "      <td>185.09</td>\n",
       "      <td>-8.08</td>\n",
       "      <td>8.08</td>\n",
       "    </tr>\n",
       "  </tbody>\n",
       "</table>\n",
       "</div>"
      ],
      "text/plain": [
       "              open    high     low   close     volume trading_volume  \\\n",
       "date                                                                   \n",
       "2018-07-26  174.89  180.13  173.75  176.26  169803668           high   \n",
       "2018-04-26  173.22  176.27  170.80  174.16   77556934            med   \n",
       "2018-01-12  178.06  181.48  177.40  179.37   77551299            med   \n",
       "2018-10-31  155.00  156.40  148.96  151.79   60101251            low   \n",
       "2018-03-19  177.01  177.17  170.06  172.56   88140060            med   \n",
       "\n",
       "            prior_close  after_hours_change_in_price  abs_change  \n",
       "date                                                              \n",
       "2018-07-26       217.50                       -42.61       42.61  \n",
       "2018-04-26       159.69                        13.53       13.53  \n",
       "2018-01-12       187.77                        -9.71        9.71  \n",
       "2018-10-31       146.22                         8.78        8.78  \n",
       "2018-03-19       185.09                        -8.08        8.08  "
      ]
     },
     "execution_count": 17,
     "metadata": {},
     "output_type": "execute_result"
    }
   ],
   "source": [
    "fb.assign(\n",
    "    prior_close=lambda x: x.close.shift(),\n",
    "    after_hours_change_in_price=lambda x: x.open - x.prior_close,\n",
    "    abs_change=lambda x: x.after_hours_change_in_price.abs()\n",
    ").nlargest(5, 'abs_change')"
   ]
  },
  {
   "cell_type": "markdown",
   "metadata": {},
   "source": [
    "If the goal is to to add/subtract time, we can use `pd.Timedelta` objects instead:"
   ]
  },
  {
   "cell_type": "code",
   "execution_count": 18,
   "metadata": {},
   "outputs": [
    {
     "data": {
      "text/plain": [
       "DatetimeIndex(['2018-01-01 09:30:00', '2018-01-02 09:30:00',\n",
       "               '2018-01-03 09:30:00', '2018-01-04 09:30:00',\n",
       "               '2018-01-05 09:30:00'],\n",
       "              dtype='datetime64[ns]', freq='D')"
      ]
     },
     "execution_count": 18,
     "metadata": {},
     "output_type": "execute_result"
    }
   ],
   "source": [
    "pd.date_range('2018-01-01', freq='D', periods=5) + pd.Timedelta('9 hours 30 minutes')"
   ]
  },
  {
   "cell_type": "markdown",
   "metadata": {},
   "source": [
    "## Differenced data\n",
    "Using the `diff()` method is a quick way to calculate the difference between the data and a lagged version of itself. By default, it will yield the result of `data - data.shift()`:"
   ]
  },
  {
   "cell_type": "code",
   "execution_count": 19,
   "metadata": {},
   "outputs": [
    {
     "data": {
      "text/plain": [
       "True"
      ]
     },
     "execution_count": 19,
     "metadata": {},
     "output_type": "execute_result"
    }
   ],
   "source": [
    "(\n",
    "    fb.drop(columns='trading_volume') \n",
    "    - fb.drop(columns='trading_volume').shift()\n",
    ").equals(\n",
    "    fb.drop(columns='trading_volume').diff()\n",
    ")"
   ]
  },
  {
   "cell_type": "markdown",
   "metadata": {},
   "source": [
    "We can use this to see how Facebook stock changed day-over-day:"
   ]
  },
  {
   "cell_type": "code",
   "execution_count": 20,
   "metadata": {},
   "outputs": [
    {
     "data": {
      "text/html": [
       "<div>\n",
       "<style scoped>\n",
       "    .dataframe tbody tr th:only-of-type {\n",
       "        vertical-align: middle;\n",
       "    }\n",
       "\n",
       "    .dataframe tbody tr th {\n",
       "        vertical-align: top;\n",
       "    }\n",
       "\n",
       "    .dataframe thead th {\n",
       "        text-align: right;\n",
       "    }\n",
       "</style>\n",
       "<table border=\"1\" class=\"dataframe\">\n",
       "  <thead>\n",
       "    <tr style=\"text-align: right;\">\n",
       "      <th></th>\n",
       "      <th>open</th>\n",
       "      <th>high</th>\n",
       "      <th>low</th>\n",
       "      <th>close</th>\n",
       "      <th>volume</th>\n",
       "    </tr>\n",
       "    <tr>\n",
       "      <th>date</th>\n",
       "      <th></th>\n",
       "      <th></th>\n",
       "      <th></th>\n",
       "      <th></th>\n",
       "      <th></th>\n",
       "    </tr>\n",
       "  </thead>\n",
       "  <tbody>\n",
       "    <tr>\n",
       "      <th>2018-01-02</th>\n",
       "      <td>NaN</td>\n",
       "      <td>NaN</td>\n",
       "      <td>NaN</td>\n",
       "      <td>NaN</td>\n",
       "      <td>NaN</td>\n",
       "    </tr>\n",
       "    <tr>\n",
       "      <th>2018-01-03</th>\n",
       "      <td>4.20</td>\n",
       "      <td>3.20</td>\n",
       "      <td>3.7800</td>\n",
       "      <td>3.25</td>\n",
       "      <td>-1265340.0</td>\n",
       "    </tr>\n",
       "    <tr>\n",
       "      <th>2018-01-04</th>\n",
       "      <td>3.02</td>\n",
       "      <td>1.43</td>\n",
       "      <td>2.7696</td>\n",
       "      <td>-0.34</td>\n",
       "      <td>-3005667.0</td>\n",
       "    </tr>\n",
       "    <tr>\n",
       "      <th>2018-01-05</th>\n",
       "      <td>0.69</td>\n",
       "      <td>0.69</td>\n",
       "      <td>0.8304</td>\n",
       "      <td>2.52</td>\n",
       "      <td>-306361.0</td>\n",
       "    </tr>\n",
       "    <tr>\n",
       "      <th>2018-01-08</th>\n",
       "      <td>1.61</td>\n",
       "      <td>2.00</td>\n",
       "      <td>1.4000</td>\n",
       "      <td>1.43</td>\n",
       "      <td>4420191.0</td>\n",
       "    </tr>\n",
       "  </tbody>\n",
       "</table>\n",
       "</div>"
      ],
      "text/plain": [
       "            open  high     low  close     volume\n",
       "date                                            \n",
       "2018-01-02   NaN   NaN     NaN    NaN        NaN\n",
       "2018-01-03  4.20  3.20  3.7800   3.25 -1265340.0\n",
       "2018-01-04  3.02  1.43  2.7696  -0.34 -3005667.0\n",
       "2018-01-05  0.69  0.69  0.8304   2.52  -306361.0\n",
       "2018-01-08  1.61  2.00  1.4000   1.43  4420191.0"
      ]
     },
     "execution_count": 20,
     "metadata": {},
     "output_type": "execute_result"
    }
   ],
   "source": [
    "fb.drop(columns='trading_volume').diff().head()"
   ]
  },
  {
   "cell_type": "markdown",
   "metadata": {},
   "source": [
    "We can specify the number of periods, can be any positive or negative integer:"
   ]
  },
  {
   "cell_type": "code",
   "execution_count": 21,
   "metadata": {},
   "outputs": [
    {
     "data": {
      "text/html": [
       "<div>\n",
       "<style scoped>\n",
       "    .dataframe tbody tr th:only-of-type {\n",
       "        vertical-align: middle;\n",
       "    }\n",
       "\n",
       "    .dataframe tbody tr th {\n",
       "        vertical-align: top;\n",
       "    }\n",
       "\n",
       "    .dataframe thead th {\n",
       "        text-align: right;\n",
       "    }\n",
       "</style>\n",
       "<table border=\"1\" class=\"dataframe\">\n",
       "  <thead>\n",
       "    <tr style=\"text-align: right;\">\n",
       "      <th></th>\n",
       "      <th>open</th>\n",
       "      <th>high</th>\n",
       "      <th>low</th>\n",
       "      <th>close</th>\n",
       "      <th>volume</th>\n",
       "    </tr>\n",
       "    <tr>\n",
       "      <th>date</th>\n",
       "      <th></th>\n",
       "      <th></th>\n",
       "      <th></th>\n",
       "      <th></th>\n",
       "      <th></th>\n",
       "    </tr>\n",
       "  </thead>\n",
       "  <tbody>\n",
       "    <tr>\n",
       "      <th>2018-01-02</th>\n",
       "      <td>-7.91</td>\n",
       "      <td>-5.32</td>\n",
       "      <td>-7.3800</td>\n",
       "      <td>-5.43</td>\n",
       "      <td>4577368.0</td>\n",
       "    </tr>\n",
       "    <tr>\n",
       "      <th>2018-01-03</th>\n",
       "      <td>-5.32</td>\n",
       "      <td>-4.12</td>\n",
       "      <td>-5.0000</td>\n",
       "      <td>-3.61</td>\n",
       "      <td>-1108163.0</td>\n",
       "    </tr>\n",
       "    <tr>\n",
       "      <th>2018-01-04</th>\n",
       "      <td>-3.80</td>\n",
       "      <td>-2.59</td>\n",
       "      <td>-3.0004</td>\n",
       "      <td>-3.54</td>\n",
       "      <td>1487839.0</td>\n",
       "    </tr>\n",
       "    <tr>\n",
       "      <th>2018-01-05</th>\n",
       "      <td>-1.35</td>\n",
       "      <td>-0.99</td>\n",
       "      <td>-0.7000</td>\n",
       "      <td>-0.99</td>\n",
       "      <td>3044641.0</td>\n",
       "    </tr>\n",
       "    <tr>\n",
       "      <th>2018-01-08</th>\n",
       "      <td>-1.20</td>\n",
       "      <td>0.50</td>\n",
       "      <td>-1.0500</td>\n",
       "      <td>0.51</td>\n",
       "      <td>8406139.0</td>\n",
       "    </tr>\n",
       "  </tbody>\n",
       "</table>\n",
       "</div>"
      ],
      "text/plain": [
       "            open  high     low  close     volume\n",
       "date                                            \n",
       "2018-01-02 -7.91 -5.32 -7.3800  -5.43  4577368.0\n",
       "2018-01-03 -5.32 -4.12 -5.0000  -3.61 -1108163.0\n",
       "2018-01-04 -3.80 -2.59 -3.0004  -3.54  1487839.0\n",
       "2018-01-05 -1.35 -0.99 -0.7000  -0.99  3044641.0\n",
       "2018-01-08 -1.20  0.50 -1.0500   0.51  8406139.0"
      ]
     },
     "execution_count": 21,
     "metadata": {},
     "output_type": "execute_result"
    }
   ],
   "source": [
    "fb.drop(columns='trading_volume').diff(-3).head()"
   ]
  },
  {
   "cell_type": "markdown",
   "metadata": {},
   "source": [
    "## Resampling\n",
    "Sometimes the data is at a granularity that isn't conducive to our analysis. Consider the case where we have data per minute for the full year of 2018. Let's see what happens if we try to plot this, and then look at the daily aggregation of this data.\n",
    "\n",
    "*Plotting will be covered next chapter.*"
   ]
  },
  {
   "cell_type": "code",
   "execution_count": 22,
   "metadata": {},
   "outputs": [
    {
     "data": {
      "text/plain": [
       "array([<AxesSubplot:title={'center':'raw data'}, xlabel='date', ylabel='events'>,\n",
       "       <AxesSubplot:title={'center':'daily totals'}, xlabel='date', ylabel='events'>],\n",
       "      dtype=object)"
      ]
     },
     "execution_count": 22,
     "metadata": {},
     "output_type": "execute_result"
    },
    {
     "data": {
      "image/png": "[encoded data removed]",
      "text/plain": [
       "<Figure size 1080x360 with 2 Axes>"
      ]
     },
     "metadata": {
      "needs_background": "light"
     },
     "output_type": "display_data"
    }
   ],
   "source": [
    "from visual_aids.misc_viz import resampling_example\n",
    "resampling_example()"
   ]
  },
  {
   "cell_type": "markdown",
   "metadata": {},
   "source": [
    "The plot on the left has so much data we can't see anything. However, when we aggregate to the daily totals, we see the data. We can alter the granularity of the data we are working with using resampling. Recall our minute-by-minute stock data:"
   ]
  },
  {
   "cell_type": "code",
   "execution_count": 23,
   "metadata": {},
   "outputs": [
    {
     "data": {
      "text/html": [
       "<div>\n",
       "<style scoped>\n",
       "    .dataframe tbody tr th:only-of-type {\n",
       "        vertical-align: middle;\n",
       "    }\n",
       "\n",
       "    .dataframe tbody tr th {\n",
       "        vertical-align: top;\n",
       "    }\n",
       "\n",
       "    .dataframe thead th {\n",
       "        text-align: right;\n",
       "    }\n",
       "</style>\n",
       "<table border=\"1\" class=\"dataframe\">\n",
       "  <thead>\n",
       "    <tr style=\"text-align: right;\">\n",
       "      <th></th>\n",
       "      <th>open</th>\n",
       "      <th>high</th>\n",
       "      <th>low</th>\n",
       "      <th>close</th>\n",
       "      <th>volume</th>\n",
       "    </tr>\n",
       "    <tr>\n",
       "      <th>date</th>\n",
       "      <th></th>\n",
       "      <th></th>\n",
       "      <th></th>\n",
       "      <th></th>\n",
       "      <th></th>\n",
       "    </tr>\n",
       "  </thead>\n",
       "  <tbody>\n",
       "    <tr>\n",
       "      <th>2019-05-20 09:30:00</th>\n",
       "      <td>181.6200</td>\n",
       "      <td>181.6200</td>\n",
       "      <td>181.6200</td>\n",
       "      <td>181.6200</td>\n",
       "      <td>159049.0</td>\n",
       "    </tr>\n",
       "    <tr>\n",
       "      <th>2019-05-20 09:31:00</th>\n",
       "      <td>182.6100</td>\n",
       "      <td>182.6100</td>\n",
       "      <td>182.6100</td>\n",
       "      <td>182.6100</td>\n",
       "      <td>468017.0</td>\n",
       "    </tr>\n",
       "    <tr>\n",
       "      <th>2019-05-20 09:32:00</th>\n",
       "      <td>182.7458</td>\n",
       "      <td>182.7458</td>\n",
       "      <td>182.7458</td>\n",
       "      <td>182.7458</td>\n",
       "      <td>97258.0</td>\n",
       "    </tr>\n",
       "    <tr>\n",
       "      <th>2019-05-20 09:33:00</th>\n",
       "      <td>182.9500</td>\n",
       "      <td>182.9500</td>\n",
       "      <td>182.9500</td>\n",
       "      <td>182.9500</td>\n",
       "      <td>43961.0</td>\n",
       "    </tr>\n",
       "    <tr>\n",
       "      <th>2019-05-20 09:34:00</th>\n",
       "      <td>183.0600</td>\n",
       "      <td>183.0600</td>\n",
       "      <td>183.0600</td>\n",
       "      <td>183.0600</td>\n",
       "      <td>79562.0</td>\n",
       "    </tr>\n",
       "  </tbody>\n",
       "</table>\n",
       "</div>"
      ],
      "text/plain": [
       "                         open      high       low     close    volume\n",
       "date                                                                 \n",
       "2019-05-20 09:30:00  181.6200  181.6200  181.6200  181.6200  159049.0\n",
       "2019-05-20 09:31:00  182.6100  182.6100  182.6100  182.6100  468017.0\n",
       "2019-05-20 09:32:00  182.7458  182.7458  182.7458  182.7458   97258.0\n",
       "2019-05-20 09:33:00  182.9500  182.9500  182.9500  182.9500   43961.0\n",
       "2019-05-20 09:34:00  183.0600  183.0600  183.0600  183.0600   79562.0"
      ]
     },
     "execution_count": 23,
     "metadata": {},
     "output_type": "execute_result"
    }
   ],
   "source": [
    "stock_data_per_minute.head()"
   ]
  },
  {
   "cell_type": "markdown",
   "metadata": {},
   "source": [
    "We can resample this to get to a daily frequency:"
   ]
  },
  {
   "cell_type": "code",
   "execution_count": 24,
   "metadata": {},
   "outputs": [
    {
     "data": {
      "text/html": [
       "<div>\n",
       "<style scoped>\n",
       "    .dataframe tbody tr th:only-of-type {\n",
       "        vertical-align: middle;\n",
       "    }\n",
       "\n",
       "    .dataframe tbody tr th {\n",
       "        vertical-align: top;\n",
       "    }\n",
       "\n",
       "    .dataframe thead th {\n",
       "        text-align: right;\n",
       "    }\n",
       "</style>\n",
       "<table border=\"1\" class=\"dataframe\">\n",
       "  <thead>\n",
       "    <tr style=\"text-align: right;\">\n",
       "      <th></th>\n",
       "      <th>open</th>\n",
       "      <th>high</th>\n",
       "      <th>low</th>\n",
       "      <th>close</th>\n",
       "      <th>volume</th>\n",
       "    </tr>\n",
       "    <tr>\n",
       "      <th>date</th>\n",
       "      <th></th>\n",
       "      <th></th>\n",
       "      <th></th>\n",
       "      <th></th>\n",
       "      <th></th>\n",
       "    </tr>\n",
       "  </thead>\n",
       "  <tbody>\n",
       "    <tr>\n",
       "      <th>2019-05-20</th>\n",
       "      <td>181.62</td>\n",
       "      <td>184.1800</td>\n",
       "      <td>181.6200</td>\n",
       "      <td>182.72</td>\n",
       "      <td>10044838.0</td>\n",
       "    </tr>\n",
       "    <tr>\n",
       "      <th>2019-05-21</th>\n",
       "      <td>184.53</td>\n",
       "      <td>185.5800</td>\n",
       "      <td>183.9700</td>\n",
       "      <td>184.82</td>\n",
       "      <td>7198405.0</td>\n",
       "    </tr>\n",
       "    <tr>\n",
       "      <th>2019-05-22</th>\n",
       "      <td>184.81</td>\n",
       "      <td>186.5603</td>\n",
       "      <td>184.0120</td>\n",
       "      <td>185.32</td>\n",
       "      <td>8412433.0</td>\n",
       "    </tr>\n",
       "    <tr>\n",
       "      <th>2019-05-23</th>\n",
       "      <td>182.50</td>\n",
       "      <td>183.7300</td>\n",
       "      <td>179.7559</td>\n",
       "      <td>180.87</td>\n",
       "      <td>12479171.0</td>\n",
       "    </tr>\n",
       "    <tr>\n",
       "      <th>2019-05-24</th>\n",
       "      <td>182.33</td>\n",
       "      <td>183.5227</td>\n",
       "      <td>181.0400</td>\n",
       "      <td>181.06</td>\n",
       "      <td>7686030.0</td>\n",
       "    </tr>\n",
       "  </tbody>\n",
       "</table>\n",
       "</div>"
      ],
      "text/plain": [
       "              open      high       low   close      volume\n",
       "date                                                      \n",
       "2019-05-20  181.62  184.1800  181.6200  182.72  10044838.0\n",
       "2019-05-21  184.53  185.5800  183.9700  184.82   7198405.0\n",
       "2019-05-22  184.81  186.5603  184.0120  185.32   8412433.0\n",
       "2019-05-23  182.50  183.7300  179.7559  180.87  12479171.0\n",
       "2019-05-24  182.33  183.5227  181.0400  181.06   7686030.0"
      ]
     },
     "execution_count": 24,
     "metadata": {},
     "output_type": "execute_result"
    }
   ],
   "source": [
    "stock_data_per_minute.resample('1D').agg({\n",
    "    'open': 'first',\n",
    "    'high': 'max', \n",
    "    'low': 'min', \n",
    "    'close': 'last', \n",
    "    'volume': 'sum'\n",
    "})"
   ]
  },
  {
   "cell_type": "markdown",
   "metadata": {},
   "source": [
    "We can downsample to quarterly data:"
   ]
  },
  {
   "cell_type": "code",
   "execution_count": 25,
   "metadata": {},
   "outputs": [
    {
     "data": {
      "text/html": [
       "<div>\n",
       "<style scoped>\n",
       "    .dataframe tbody tr th:only-of-type {\n",
       "        vertical-align: middle;\n",
       "    }\n",
       "\n",
       "    .dataframe tbody tr th {\n",
       "        vertical-align: top;\n",
       "    }\n",
       "\n",
       "    .dataframe thead th {\n",
       "        text-align: right;\n",
       "    }\n",
       "</style>\n",
       "<table border=\"1\" class=\"dataframe\">\n",
       "  <thead>\n",
       "    <tr style=\"text-align: right;\">\n",
       "      <th></th>\n",
       "      <th>open</th>\n",
       "      <th>high</th>\n",
       "      <th>low</th>\n",
       "      <th>close</th>\n",
       "      <th>volume</th>\n",
       "    </tr>\n",
       "    <tr>\n",
       "      <th>date</th>\n",
       "      <th></th>\n",
       "      <th></th>\n",
       "      <th></th>\n",
       "      <th></th>\n",
       "      <th></th>\n",
       "    </tr>\n",
       "  </thead>\n",
       "  <tbody>\n",
       "    <tr>\n",
       "      <th>2018-03-31</th>\n",
       "      <td>179.472295</td>\n",
       "      <td>181.794659</td>\n",
       "      <td>177.040428</td>\n",
       "      <td>179.551148</td>\n",
       "      <td>3.292640e+07</td>\n",
       "    </tr>\n",
       "    <tr>\n",
       "      <th>2018-06-30</th>\n",
       "      <td>180.373770</td>\n",
       "      <td>182.277689</td>\n",
       "      <td>178.595964</td>\n",
       "      <td>180.704687</td>\n",
       "      <td>2.405532e+07</td>\n",
       "    </tr>\n",
       "    <tr>\n",
       "      <th>2018-09-30</th>\n",
       "      <td>180.812130</td>\n",
       "      <td>182.890886</td>\n",
       "      <td>178.955229</td>\n",
       "      <td>181.028492</td>\n",
       "      <td>2.701982e+07</td>\n",
       "    </tr>\n",
       "    <tr>\n",
       "      <th>2018-12-31</th>\n",
       "      <td>145.272460</td>\n",
       "      <td>147.620121</td>\n",
       "      <td>142.718943</td>\n",
       "      <td>144.868730</td>\n",
       "      <td>2.697433e+07</td>\n",
       "    </tr>\n",
       "  </tbody>\n",
       "</table>\n",
       "</div>"
      ],
      "text/plain": [
       "                  open        high         low       close        volume\n",
       "date                                                                    \n",
       "2018-03-31  179.472295  181.794659  177.040428  179.551148  3.292640e+07\n",
       "2018-06-30  180.373770  182.277689  178.595964  180.704687  2.405532e+07\n",
       "2018-09-30  180.812130  182.890886  178.955229  181.028492  2.701982e+07\n",
       "2018-12-31  145.272460  147.620121  142.718943  144.868730  2.697433e+07"
      ]
     },
     "execution_count": 25,
     "metadata": {},
     "output_type": "execute_result"
    }
   ],
   "source": [
    "fb.resample('Q').mean()"
   ]
  },
  {
   "cell_type": "markdown",
   "metadata": {},
   "source": [
    "We can also use `apply()`. Here, we show the quarterly change from start to end:"
   ]
  },
  {
   "cell_type": "code",
   "execution_count": 26,
   "metadata": {},
   "outputs": [
    {
     "data": {
      "text/html": [
       "<div>\n",
       "<style scoped>\n",
       "    .dataframe tbody tr th:only-of-type {\n",
       "        vertical-align: middle;\n",
       "    }\n",
       "\n",
       "    .dataframe tbody tr th {\n",
       "        vertical-align: top;\n",
       "    }\n",
       "\n",
       "    .dataframe thead th {\n",
       "        text-align: right;\n",
       "    }\n",
       "</style>\n",
       "<table border=\"1\" class=\"dataframe\">\n",
       "  <thead>\n",
       "    <tr style=\"text-align: right;\">\n",
       "      <th></th>\n",
       "      <th>open</th>\n",
       "      <th>high</th>\n",
       "      <th>low</th>\n",
       "      <th>close</th>\n",
       "      <th>volume</th>\n",
       "    </tr>\n",
       "    <tr>\n",
       "      <th>date</th>\n",
       "      <th></th>\n",
       "      <th></th>\n",
       "      <th></th>\n",
       "      <th></th>\n",
       "      <th></th>\n",
       "    </tr>\n",
       "  </thead>\n",
       "  <tbody>\n",
       "    <tr>\n",
       "      <th>2018-03-31</th>\n",
       "      <td>-22.53</td>\n",
       "      <td>-20.1600</td>\n",
       "      <td>-23.410</td>\n",
       "      <td>-21.63</td>\n",
       "      <td>41282390</td>\n",
       "    </tr>\n",
       "    <tr>\n",
       "      <th>2018-06-30</th>\n",
       "      <td>39.51</td>\n",
       "      <td>38.3997</td>\n",
       "      <td>39.844</td>\n",
       "      <td>38.93</td>\n",
       "      <td>-20984389</td>\n",
       "    </tr>\n",
       "    <tr>\n",
       "      <th>2018-09-30</th>\n",
       "      <td>-25.04</td>\n",
       "      <td>-28.6600</td>\n",
       "      <td>-29.660</td>\n",
       "      <td>-32.90</td>\n",
       "      <td>20304060</td>\n",
       "    </tr>\n",
       "    <tr>\n",
       "      <th>2018-12-31</th>\n",
       "      <td>-28.58</td>\n",
       "      <td>-31.2400</td>\n",
       "      <td>-31.310</td>\n",
       "      <td>-31.35</td>\n",
       "      <td>-1782369</td>\n",
       "    </tr>\n",
       "  </tbody>\n",
       "</table>\n",
       "</div>"
      ],
      "text/plain": [
       "             open     high     low  close    volume\n",
       "date                                               \n",
       "2018-03-31 -22.53 -20.1600 -23.410 -21.63  41282390\n",
       "2018-06-30  39.51  38.3997  39.844  38.93 -20984389\n",
       "2018-09-30 -25.04 -28.6600 -29.660 -32.90  20304060\n",
       "2018-12-31 -28.58 -31.2400 -31.310 -31.35  -1782369"
      ]
     },
     "execution_count": 26,
     "metadata": {},
     "output_type": "execute_result"
    }
   ],
   "source": [
    "fb.drop(columns='trading_volume').resample('Q').apply(\n",
    "    lambda x: x.last('1D').values - x.first('1D').values\n",
    ")"
   ]
  },
  {
   "cell_type": "markdown",
   "metadata": {},
   "source": [
    "Consider the following melted stock data by the minute. We don't see the OHLC data directly:"
   ]
  },
  {
   "cell_type": "code",
   "execution_count": 27,
   "metadata": {},
   "outputs": [
    {
     "data": {
      "text/html": [
       "<div>\n",
       "<style scoped>\n",
       "    .dataframe tbody tr th:only-of-type {\n",
       "        vertical-align: middle;\n",
       "    }\n",
       "\n",
       "    .dataframe tbody tr th {\n",
       "        vertical-align: top;\n",
       "    }\n",
       "\n",
       "    .dataframe thead th {\n",
       "        text-align: right;\n",
       "    }\n",
       "</style>\n",
       "<table border=\"1\" class=\"dataframe\">\n",
       "  <thead>\n",
       "    <tr style=\"text-align: right;\">\n",
       "      <th></th>\n",
       "      <th>price</th>\n",
       "    </tr>\n",
       "    <tr>\n",
       "      <th>date</th>\n",
       "      <th></th>\n",
       "    </tr>\n",
       "  </thead>\n",
       "  <tbody>\n",
       "    <tr>\n",
       "      <th>2019-05-20 09:30:00</th>\n",
       "      <td>181.6200</td>\n",
       "    </tr>\n",
       "    <tr>\n",
       "      <th>2019-05-20 09:31:00</th>\n",
       "      <td>182.6100</td>\n",
       "    </tr>\n",
       "    <tr>\n",
       "      <th>2019-05-20 09:32:00</th>\n",
       "      <td>182.7458</td>\n",
       "    </tr>\n",
       "    <tr>\n",
       "      <th>2019-05-20 09:33:00</th>\n",
       "      <td>182.9500</td>\n",
       "    </tr>\n",
       "    <tr>\n",
       "      <th>2019-05-20 09:34:00</th>\n",
       "      <td>183.0600</td>\n",
       "    </tr>\n",
       "  </tbody>\n",
       "</table>\n",
       "</div>"
      ],
      "text/plain": [
       "                        price\n",
       "date                         \n",
       "2019-05-20 09:30:00  181.6200\n",
       "2019-05-20 09:31:00  182.6100\n",
       "2019-05-20 09:32:00  182.7458\n",
       "2019-05-20 09:33:00  182.9500\n",
       "2019-05-20 09:34:00  183.0600"
      ]
     },
     "execution_count": 27,
     "metadata": {},
     "output_type": "execute_result"
    }
   ],
   "source": [
    "melted_stock_data = pd.read_csv('data/melted_stock_data.csv', index_col='date', parse_dates=True)\n",
    "melted_stock_data.head()"
   ]
  },
  {
   "cell_type": "markdown",
   "metadata": {},
   "source": [
    "We can use the `ohlc()` method after resampling to recover the OHLC columns:"
   ]
  },
  {
   "cell_type": "code",
   "execution_count": 28,
   "metadata": {},
   "outputs": [
    {
     "data": {
      "text/html": [
       "<div>\n",
       "<style scoped>\n",
       "    .dataframe tbody tr th:only-of-type {\n",
       "        vertical-align: middle;\n",
       "    }\n",
       "\n",
       "    .dataframe tbody tr th {\n",
       "        vertical-align: top;\n",
       "    }\n",
       "\n",
       "    .dataframe thead th {\n",
       "        text-align: right;\n",
       "    }\n",
       "</style>\n",
       "<table border=\"1\" class=\"dataframe\">\n",
       "  <thead>\n",
       "    <tr style=\"text-align: right;\">\n",
       "      <th></th>\n",
       "      <th>open</th>\n",
       "      <th>high</th>\n",
       "      <th>low</th>\n",
       "      <th>close</th>\n",
       "    </tr>\n",
       "    <tr>\n",
       "      <th>date</th>\n",
       "      <th></th>\n",
       "      <th></th>\n",
       "      <th></th>\n",
       "      <th></th>\n",
       "    </tr>\n",
       "  </thead>\n",
       "  <tbody>\n",
       "    <tr>\n",
       "      <th>2019-05-20</th>\n",
       "      <td>181.62</td>\n",
       "      <td>184.1800</td>\n",
       "      <td>181.6200</td>\n",
       "      <td>182.72</td>\n",
       "    </tr>\n",
       "    <tr>\n",
       "      <th>2019-05-21</th>\n",
       "      <td>184.53</td>\n",
       "      <td>185.5800</td>\n",
       "      <td>183.9700</td>\n",
       "      <td>184.82</td>\n",
       "    </tr>\n",
       "    <tr>\n",
       "      <th>2019-05-22</th>\n",
       "      <td>184.81</td>\n",
       "      <td>186.5603</td>\n",
       "      <td>184.0120</td>\n",
       "      <td>185.32</td>\n",
       "    </tr>\n",
       "    <tr>\n",
       "      <th>2019-05-23</th>\n",
       "      <td>182.50</td>\n",
       "      <td>183.7300</td>\n",
       "      <td>179.7559</td>\n",
       "      <td>180.87</td>\n",
       "    </tr>\n",
       "    <tr>\n",
       "      <th>2019-05-24</th>\n",
       "      <td>182.33</td>\n",
       "      <td>183.5227</td>\n",
       "      <td>181.0400</td>\n",
       "      <td>181.06</td>\n",
       "    </tr>\n",
       "  </tbody>\n",
       "</table>\n",
       "</div>"
      ],
      "text/plain": [
       "              open      high       low   close\n",
       "date                                          \n",
       "2019-05-20  181.62  184.1800  181.6200  182.72\n",
       "2019-05-21  184.53  185.5800  183.9700  184.82\n",
       "2019-05-22  184.81  186.5603  184.0120  185.32\n",
       "2019-05-23  182.50  183.7300  179.7559  180.87\n",
       "2019-05-24  182.33  183.5227  181.0400  181.06"
      ]
     },
     "execution_count": 28,
     "metadata": {},
     "output_type": "execute_result"
    }
   ],
   "source": [
    "melted_stock_data.resample('1D').ohlc()['price']"
   ]
  },
  {
   "cell_type": "markdown",
   "metadata": {},
   "source": [
    "Alternatively, we can upsample to increase the granularity. Note this will introduce `NaN` values:"
   ]
  },
  {
   "cell_type": "code",
   "execution_count": 29,
   "metadata": {},
   "outputs": [
    {
     "data": {
      "text/html": [
       "<div>\n",
       "<style scoped>\n",
       "    .dataframe tbody tr th:only-of-type {\n",
       "        vertical-align: middle;\n",
       "    }\n",
       "\n",
       "    .dataframe tbody tr th {\n",
       "        vertical-align: top;\n",
       "    }\n",
       "\n",
       "    .dataframe thead th {\n",
       "        text-align: right;\n",
       "    }\n",
       "</style>\n",
       "<table border=\"1\" class=\"dataframe\">\n",
       "  <thead>\n",
       "    <tr style=\"text-align: right;\">\n",
       "      <th></th>\n",
       "      <th>open</th>\n",
       "      <th>high</th>\n",
       "      <th>low</th>\n",
       "      <th>close</th>\n",
       "      <th>volume</th>\n",
       "      <th>trading_volume</th>\n",
       "    </tr>\n",
       "    <tr>\n",
       "      <th>date</th>\n",
       "      <th></th>\n",
       "      <th></th>\n",
       "      <th></th>\n",
       "      <th></th>\n",
       "      <th></th>\n",
       "      <th></th>\n",
       "    </tr>\n",
       "  </thead>\n",
       "  <tbody>\n",
       "    <tr>\n",
       "      <th>2018-01-02 00:00:00</th>\n",
       "      <td>177.68</td>\n",
       "      <td>181.58</td>\n",
       "      <td>177.55</td>\n",
       "      <td>181.42</td>\n",
       "      <td>18151903.0</td>\n",
       "      <td>low</td>\n",
       "    </tr>\n",
       "    <tr>\n",
       "      <th>2018-01-02 06:00:00</th>\n",
       "      <td>NaN</td>\n",
       "      <td>NaN</td>\n",
       "      <td>NaN</td>\n",
       "      <td>NaN</td>\n",
       "      <td>NaN</td>\n",
       "      <td>NaN</td>\n",
       "    </tr>\n",
       "    <tr>\n",
       "      <th>2018-01-02 12:00:00</th>\n",
       "      <td>NaN</td>\n",
       "      <td>NaN</td>\n",
       "      <td>NaN</td>\n",
       "      <td>NaN</td>\n",
       "      <td>NaN</td>\n",
       "      <td>NaN</td>\n",
       "    </tr>\n",
       "    <tr>\n",
       "      <th>2018-01-02 18:00:00</th>\n",
       "      <td>NaN</td>\n",
       "      <td>NaN</td>\n",
       "      <td>NaN</td>\n",
       "      <td>NaN</td>\n",
       "      <td>NaN</td>\n",
       "      <td>NaN</td>\n",
       "    </tr>\n",
       "    <tr>\n",
       "      <th>2018-01-03 00:00:00</th>\n",
       "      <td>181.88</td>\n",
       "      <td>184.78</td>\n",
       "      <td>181.33</td>\n",
       "      <td>184.67</td>\n",
       "      <td>16886563.0</td>\n",
       "      <td>low</td>\n",
       "    </tr>\n",
       "  </tbody>\n",
       "</table>\n",
       "</div>"
      ],
      "text/plain": [
       "                       open    high     low   close      volume trading_volume\n",
       "date                                                                          \n",
       "2018-01-02 00:00:00  177.68  181.58  177.55  181.42  18151903.0            low\n",
       "2018-01-02 06:00:00     NaN     NaN     NaN     NaN         NaN            NaN\n",
       "2018-01-02 12:00:00     NaN     NaN     NaN     NaN         NaN            NaN\n",
       "2018-01-02 18:00:00     NaN     NaN     NaN     NaN         NaN            NaN\n",
       "2018-01-03 00:00:00  181.88  184.78  181.33  184.67  16886563.0            low"
      ]
     },
     "execution_count": 29,
     "metadata": {},
     "output_type": "execute_result"
    }
   ],
   "source": [
    "fb.resample('6H').asfreq().head()"
   ]
  },
  {
   "cell_type": "markdown",
   "metadata": {},
   "source": [
    "There are many ways to handle these `NaN` values. We can forward-fill with `pad()`:"
   ]
  },
  {
   "cell_type": "code",
   "execution_count": 30,
   "metadata": {},
   "outputs": [
    {
     "data": {
      "text/html": [
       "<div>\n",
       "<style scoped>\n",
       "    .dataframe tbody tr th:only-of-type {\n",
       "        vertical-align: middle;\n",
       "    }\n",
       "\n",
       "    .dataframe tbody tr th {\n",
       "        vertical-align: top;\n",
       "    }\n",
       "\n",
       "    .dataframe thead th {\n",
       "        text-align: right;\n",
       "    }\n",
       "</style>\n",
       "<table border=\"1\" class=\"dataframe\">\n",
       "  <thead>\n",
       "    <tr style=\"text-align: right;\">\n",
       "      <th></th>\n",
       "      <th>open</th>\n",
       "      <th>high</th>\n",
       "      <th>low</th>\n",
       "      <th>close</th>\n",
       "      <th>volume</th>\n",
       "      <th>trading_volume</th>\n",
       "    </tr>\n",
       "    <tr>\n",
       "      <th>date</th>\n",
       "      <th></th>\n",
       "      <th></th>\n",
       "      <th></th>\n",
       "      <th></th>\n",
       "      <th></th>\n",
       "      <th></th>\n",
       "    </tr>\n",
       "  </thead>\n",
       "  <tbody>\n",
       "    <tr>\n",
       "      <th>2018-01-02 00:00:00</th>\n",
       "      <td>177.68</td>\n",
       "      <td>181.58</td>\n",
       "      <td>177.55</td>\n",
       "      <td>181.42</td>\n",
       "      <td>18151903</td>\n",
       "      <td>low</td>\n",
       "    </tr>\n",
       "    <tr>\n",
       "      <th>2018-01-02 06:00:00</th>\n",
       "      <td>177.68</td>\n",
       "      <td>181.58</td>\n",
       "      <td>177.55</td>\n",
       "      <td>181.42</td>\n",
       "      <td>18151903</td>\n",
       "      <td>low</td>\n",
       "    </tr>\n",
       "    <tr>\n",
       "      <th>2018-01-02 12:00:00</th>\n",
       "      <td>177.68</td>\n",
       "      <td>181.58</td>\n",
       "      <td>177.55</td>\n",
       "      <td>181.42</td>\n",
       "      <td>18151903</td>\n",
       "      <td>low</td>\n",
       "    </tr>\n",
       "    <tr>\n",
       "      <th>2018-01-02 18:00:00</th>\n",
       "      <td>177.68</td>\n",
       "      <td>181.58</td>\n",
       "      <td>177.55</td>\n",
       "      <td>181.42</td>\n",
       "      <td>18151903</td>\n",
       "      <td>low</td>\n",
       "    </tr>\n",
       "    <tr>\n",
       "      <th>2018-01-03 00:00:00</th>\n",
       "      <td>181.88</td>\n",
       "      <td>184.78</td>\n",
       "      <td>181.33</td>\n",
       "      <td>184.67</td>\n",
       "      <td>16886563</td>\n",
       "      <td>low</td>\n",
       "    </tr>\n",
       "  </tbody>\n",
       "</table>\n",
       "</div>"
      ],
      "text/plain": [
       "                       open    high     low   close    volume trading_volume\n",
       "date                                                                        \n",
       "2018-01-02 00:00:00  177.68  181.58  177.55  181.42  18151903            low\n",
       "2018-01-02 06:00:00  177.68  181.58  177.55  181.42  18151903            low\n",
       "2018-01-02 12:00:00  177.68  181.58  177.55  181.42  18151903            low\n",
       "2018-01-02 18:00:00  177.68  181.58  177.55  181.42  18151903            low\n",
       "2018-01-03 00:00:00  181.88  184.78  181.33  184.67  16886563            low"
      ]
     },
     "execution_count": 30,
     "metadata": {},
     "output_type": "execute_result"
    }
   ],
   "source": [
    "fb.resample('6H').pad().head()"
   ]
  },
  {
   "cell_type": "markdown",
   "metadata": {},
   "source": [
    "We can specify a specific value or a method with `fillna()`:"
   ]
  },
  {
   "cell_type": "code",
   "execution_count": 31,
   "metadata": {},
   "outputs": [
    {
     "data": {
      "text/html": [
       "<div>\n",
       "<style scoped>\n",
       "    .dataframe tbody tr th:only-of-type {\n",
       "        vertical-align: middle;\n",
       "    }\n",
       "\n",
       "    .dataframe tbody tr th {\n",
       "        vertical-align: top;\n",
       "    }\n",
       "\n",
       "    .dataframe thead th {\n",
       "        text-align: right;\n",
       "    }\n",
       "</style>\n",
       "<table border=\"1\" class=\"dataframe\">\n",
       "  <thead>\n",
       "    <tr style=\"text-align: right;\">\n",
       "      <th></th>\n",
       "      <th>open</th>\n",
       "      <th>high</th>\n",
       "      <th>low</th>\n",
       "      <th>close</th>\n",
       "      <th>volume</th>\n",
       "      <th>trading_volume</th>\n",
       "    </tr>\n",
       "    <tr>\n",
       "      <th>date</th>\n",
       "      <th></th>\n",
       "      <th></th>\n",
       "      <th></th>\n",
       "      <th></th>\n",
       "      <th></th>\n",
       "      <th></th>\n",
       "    </tr>\n",
       "  </thead>\n",
       "  <tbody>\n",
       "    <tr>\n",
       "      <th>2018-01-02 00:00:00</th>\n",
       "      <td>177.68</td>\n",
       "      <td>181.58</td>\n",
       "      <td>177.55</td>\n",
       "      <td>181.42</td>\n",
       "      <td>18151903</td>\n",
       "      <td>low</td>\n",
       "    </tr>\n",
       "    <tr>\n",
       "      <th>2018-01-02 06:00:00</th>\n",
       "      <td>177.68</td>\n",
       "      <td>181.58</td>\n",
       "      <td>177.55</td>\n",
       "      <td>181.42</td>\n",
       "      <td>18151903</td>\n",
       "      <td>low</td>\n",
       "    </tr>\n",
       "    <tr>\n",
       "      <th>2018-01-02 12:00:00</th>\n",
       "      <td>181.88</td>\n",
       "      <td>184.78</td>\n",
       "      <td>181.33</td>\n",
       "      <td>184.67</td>\n",
       "      <td>16886563</td>\n",
       "      <td>low</td>\n",
       "    </tr>\n",
       "    <tr>\n",
       "      <th>2018-01-02 18:00:00</th>\n",
       "      <td>181.88</td>\n",
       "      <td>184.78</td>\n",
       "      <td>181.33</td>\n",
       "      <td>184.67</td>\n",
       "      <td>16886563</td>\n",
       "      <td>low</td>\n",
       "    </tr>\n",
       "    <tr>\n",
       "      <th>2018-01-03 00:00:00</th>\n",
       "      <td>181.88</td>\n",
       "      <td>184.78</td>\n",
       "      <td>181.33</td>\n",
       "      <td>184.67</td>\n",
       "      <td>16886563</td>\n",
       "      <td>low</td>\n",
       "    </tr>\n",
       "  </tbody>\n",
       "</table>\n",
       "</div>"
      ],
      "text/plain": [
       "                       open    high     low   close    volume trading_volume\n",
       "date                                                                        \n",
       "2018-01-02 00:00:00  177.68  181.58  177.55  181.42  18151903            low\n",
       "2018-01-02 06:00:00  177.68  181.58  177.55  181.42  18151903            low\n",
       "2018-01-02 12:00:00  181.88  184.78  181.33  184.67  16886563            low\n",
       "2018-01-02 18:00:00  181.88  184.78  181.33  184.67  16886563            low\n",
       "2018-01-03 00:00:00  181.88  184.78  181.33  184.67  16886563            low"
      ]
     },
     "execution_count": 31,
     "metadata": {},
     "output_type": "execute_result"
    }
   ],
   "source": [
    "fb.resample('6H').fillna('nearest').head()"
   ]
  },
  {
   "cell_type": "markdown",
   "metadata": {},
   "source": [
    "We can use `asfreq()` and `assign()` to specify the action per column:"
   ]
  },
  {
   "cell_type": "code",
   "execution_count": 32,
   "metadata": {},
   "outputs": [
    {
     "data": {
      "text/html": [
       "<div>\n",
       "<style scoped>\n",
       "    .dataframe tbody tr th:only-of-type {\n",
       "        vertical-align: middle;\n",
       "    }\n",
       "\n",
       "    .dataframe tbody tr th {\n",
       "        vertical-align: top;\n",
       "    }\n",
       "\n",
       "    .dataframe thead th {\n",
       "        text-align: right;\n",
       "    }\n",
       "</style>\n",
       "<table border=\"1\" class=\"dataframe\">\n",
       "  <thead>\n",
       "    <tr style=\"text-align: right;\">\n",
       "      <th></th>\n",
       "      <th>open</th>\n",
       "      <th>high</th>\n",
       "      <th>low</th>\n",
       "      <th>close</th>\n",
       "      <th>volume</th>\n",
       "      <th>trading_volume</th>\n",
       "    </tr>\n",
       "    <tr>\n",
       "      <th>date</th>\n",
       "      <th></th>\n",
       "      <th></th>\n",
       "      <th></th>\n",
       "      <th></th>\n",
       "      <th></th>\n",
       "      <th></th>\n",
       "    </tr>\n",
       "  </thead>\n",
       "  <tbody>\n",
       "    <tr>\n",
       "      <th>2018-01-02 00:00:00</th>\n",
       "      <td>177.68</td>\n",
       "      <td>181.58</td>\n",
       "      <td>177.55</td>\n",
       "      <td>181.42</td>\n",
       "      <td>18151903.0</td>\n",
       "      <td>low</td>\n",
       "    </tr>\n",
       "    <tr>\n",
       "      <th>2018-01-02 06:00:00</th>\n",
       "      <td>181.42</td>\n",
       "      <td>181.42</td>\n",
       "      <td>181.42</td>\n",
       "      <td>181.42</td>\n",
       "      <td>0.0</td>\n",
       "      <td>NaN</td>\n",
       "    </tr>\n",
       "    <tr>\n",
       "      <th>2018-01-02 12:00:00</th>\n",
       "      <td>181.42</td>\n",
       "      <td>181.42</td>\n",
       "      <td>181.42</td>\n",
       "      <td>181.42</td>\n",
       "      <td>0.0</td>\n",
       "      <td>NaN</td>\n",
       "    </tr>\n",
       "    <tr>\n",
       "      <th>2018-01-02 18:00:00</th>\n",
       "      <td>181.42</td>\n",
       "      <td>181.42</td>\n",
       "      <td>181.42</td>\n",
       "      <td>181.42</td>\n",
       "      <td>0.0</td>\n",
       "      <td>NaN</td>\n",
       "    </tr>\n",
       "    <tr>\n",
       "      <th>2018-01-03 00:00:00</th>\n",
       "      <td>181.88</td>\n",
       "      <td>184.78</td>\n",
       "      <td>181.33</td>\n",
       "      <td>184.67</td>\n",
       "      <td>16886563.0</td>\n",
       "      <td>low</td>\n",
       "    </tr>\n",
       "  </tbody>\n",
       "</table>\n",
       "</div>"
      ],
      "text/plain": [
       "                       open    high     low   close      volume trading_volume\n",
       "date                                                                          \n",
       "2018-01-02 00:00:00  177.68  181.58  177.55  181.42  18151903.0            low\n",
       "2018-01-02 06:00:00  181.42  181.42  181.42  181.42         0.0            NaN\n",
       "2018-01-02 12:00:00  181.42  181.42  181.42  181.42         0.0            NaN\n",
       "2018-01-02 18:00:00  181.42  181.42  181.42  181.42         0.0            NaN\n",
       "2018-01-03 00:00:00  181.88  184.78  181.33  184.67  16886563.0            low"
      ]
     },
     "execution_count": 32,
     "metadata": {},
     "output_type": "execute_result"
    }
   ],
   "source": [
    "fb.resample('6H').asfreq().assign(\n",
    "    volume=lambda x: x.volume.fillna(0), # put 0 when market is closed\n",
    "    close=lambda x: x.close.fillna(method='ffill'), # carry forward\n",
    "    # take the closing price if these aren't available\n",
    "    open=lambda x: x.open.combine_first(x.close),\n",
    "    high=lambda x: x.high.combine_first(x.close),\n",
    "    low=lambda x: x.low.combine_first(x.close)\n",
    ").head()"
   ]
  },
  {
   "cell_type": "markdown",
   "metadata": {},
   "source": [
    "## Merging\n",
    "We saw merging examples the [`1-querying_and_merging.ipynb`](./1-querying_and_merging.ipynb) notebook. However, they all matched based on keys. With time series, it is possible that they are so granular that we never have the same time for multiple entries. Let's work with some stock data at different granularities:"
   ]
  },
  {
   "cell_type": "code",
   "execution_count": 33,
   "metadata": {},
   "outputs": [],
   "source": [
    "import sqlite3\n",
    "\n",
    "with sqlite3.connect('data/stocks.db') as connection:\n",
    "    fb_prices = pd.read_sql(\n",
    "        'SELECT * FROM fb_prices', connection, \n",
    "        index_col='date', parse_dates=['date']\n",
    "    )\n",
    "    aapl_prices = pd.read_sql(\n",
    "        'SELECT * FROM aapl_prices', connection, \n",
    "        index_col='date', parse_dates=['date']\n",
    "    )"
   ]
  },
  {
   "cell_type": "markdown",
   "metadata": {},
   "source": [
    "The Facebook prices are at the minute granularity:"
   ]
  },
  {
   "cell_type": "code",
   "execution_count": 34,
   "metadata": {},
   "outputs": [
    {
     "data": {
      "text/plain": [
       "Int64Index([0], dtype='int64', name='date')"
      ]
     },
     "execution_count": 34,
     "metadata": {},
     "output_type": "execute_result"
    }
   ],
   "source": [
    "fb_prices.index.second.unique()"
   ]
  },
  {
   "cell_type": "markdown",
   "metadata": {},
   "source": [
    "However, the Apple prices have information for the second:"
   ]
  },
  {
   "cell_type": "code",
   "execution_count": 35,
   "metadata": {},
   "outputs": [
    {
     "data": {
      "text/plain": [
       "Int64Index([ 0, 52, 36, 34, 55, 35,  7, 12, 59, 17,  5, 20, 26, 23, 54, 49, 19,\n",
       "            53, 11, 22, 13, 21, 10, 46, 42, 38, 33, 18, 16,  9, 56, 39,  2, 50,\n",
       "            31, 58, 48, 24, 29,  6, 47, 51, 40,  3, 15, 14, 25,  4, 43,  8, 32,\n",
       "            27, 30, 45,  1, 44, 57, 41, 37, 28],\n",
       "           dtype='int64', name='date')"
      ]
     },
     "execution_count": 35,
     "metadata": {},
     "output_type": "execute_result"
    }
   ],
   "source": [
    "aapl_prices.index.second.unique()"
   ]
  },
  {
   "cell_type": "markdown",
   "metadata": {},
   "source": [
    "We can perform an *as of* merge to try to line these up the best we can. We specify how to handle the mismatch with the `direction` and `tolerance` parameters. We will fill in with the `direction` of `nearest` and a `tolerance` of 30 seconds. This will place the Apple data with the minute that it is closest to, so 9:31:52 will go with 9:32 and 9:37:07 will go with 9:37. Since the times are on the index, we pass in `left_index` and `right_index`, as we did with `merge()` earlier this chapter: "
   ]
  },
  {
   "cell_type": "code",
   "execution_count": 36,
   "metadata": {},
   "outputs": [
    {
     "data": {
      "text/html": [
       "<div>\n",
       "<style scoped>\n",
       "    .dataframe tbody tr th:only-of-type {\n",
       "        vertical-align: middle;\n",
       "    }\n",
       "\n",
       "    .dataframe tbody tr th {\n",
       "        vertical-align: top;\n",
       "    }\n",
       "\n",
       "    .dataframe thead th {\n",
       "        text-align: right;\n",
       "    }\n",
       "</style>\n",
       "<table border=\"1\" class=\"dataframe\">\n",
       "  <thead>\n",
       "    <tr style=\"text-align: right;\">\n",
       "      <th></th>\n",
       "      <th>FB</th>\n",
       "      <th>AAPL</th>\n",
       "    </tr>\n",
       "    <tr>\n",
       "      <th>date</th>\n",
       "      <th></th>\n",
       "      <th></th>\n",
       "    </tr>\n",
       "  </thead>\n",
       "  <tbody>\n",
       "    <tr>\n",
       "      <th>2019-05-20 09:30:00</th>\n",
       "      <td>181.6200</td>\n",
       "      <td>183.5200</td>\n",
       "    </tr>\n",
       "    <tr>\n",
       "      <th>2019-05-20 09:31:00</th>\n",
       "      <td>182.6100</td>\n",
       "      <td>NaN</td>\n",
       "    </tr>\n",
       "    <tr>\n",
       "      <th>2019-05-20 09:32:00</th>\n",
       "      <td>182.7458</td>\n",
       "      <td>182.8710</td>\n",
       "    </tr>\n",
       "    <tr>\n",
       "      <th>2019-05-20 09:33:00</th>\n",
       "      <td>182.9500</td>\n",
       "      <td>182.5000</td>\n",
       "    </tr>\n",
       "    <tr>\n",
       "      <th>2019-05-20 09:34:00</th>\n",
       "      <td>183.0600</td>\n",
       "      <td>182.1067</td>\n",
       "    </tr>\n",
       "  </tbody>\n",
       "</table>\n",
       "</div>"
      ],
      "text/plain": [
       "                           FB      AAPL\n",
       "date                                   \n",
       "2019-05-20 09:30:00  181.6200  183.5200\n",
       "2019-05-20 09:31:00  182.6100       NaN\n",
       "2019-05-20 09:32:00  182.7458  182.8710\n",
       "2019-05-20 09:33:00  182.9500  182.5000\n",
       "2019-05-20 09:34:00  183.0600  182.1067"
      ]
     },
     "execution_count": 36,
     "metadata": {},
     "output_type": "execute_result"
    }
   ],
   "source": [
    "pd.merge_asof(\n",
    "    fb_prices, aapl_prices, \n",
    "    left_index=True, right_index=True, # datetimes are in the index\n",
    "    # merge with nearest minute\n",
    "    direction='nearest', tolerance=pd.Timedelta(30, unit='s')\n",
    ").head()"
   ]
  },
  {
   "cell_type": "markdown",
   "metadata": {},
   "source": [
    "If we don't want to lose the seconds information with the Apple data, we can use `pd.merge_ordered()` instead, which will interleave the two. Note this is an outer join by default (`how` parameter). The only catch here is that we need to reset the index in order to join on it:"
   ]
  },
  {
   "cell_type": "code",
   "execution_count": 37,
   "metadata": {},
   "outputs": [
    {
     "data": {
      "text/html": [
       "<div>\n",
       "<style scoped>\n",
       "    .dataframe tbody tr th:only-of-type {\n",
       "        vertical-align: middle;\n",
       "    }\n",
       "\n",
       "    .dataframe tbody tr th {\n",
       "        vertical-align: top;\n",
       "    }\n",
       "\n",
       "    .dataframe thead th {\n",
       "        text-align: right;\n",
       "    }\n",
       "</style>\n",
       "<table border=\"1\" class=\"dataframe\">\n",
       "  <thead>\n",
       "    <tr style=\"text-align: right;\">\n",
       "      <th></th>\n",
       "      <th>FB</th>\n",
       "      <th>AAPL</th>\n",
       "    </tr>\n",
       "    <tr>\n",
       "      <th>date</th>\n",
       "      <th></th>\n",
       "      <th></th>\n",
       "    </tr>\n",
       "  </thead>\n",
       "  <tbody>\n",
       "    <tr>\n",
       "      <th>2019-05-20 09:30:00</th>\n",
       "      <td>181.6200</td>\n",
       "      <td>183.520</td>\n",
       "    </tr>\n",
       "    <tr>\n",
       "      <th>2019-05-20 09:31:00</th>\n",
       "      <td>182.6100</td>\n",
       "      <td>NaN</td>\n",
       "    </tr>\n",
       "    <tr>\n",
       "      <th>2019-05-20 09:31:52</th>\n",
       "      <td>NaN</td>\n",
       "      <td>182.871</td>\n",
       "    </tr>\n",
       "    <tr>\n",
       "      <th>2019-05-20 09:32:00</th>\n",
       "      <td>182.7458</td>\n",
       "      <td>NaN</td>\n",
       "    </tr>\n",
       "    <tr>\n",
       "      <th>2019-05-20 09:32:36</th>\n",
       "      <td>NaN</td>\n",
       "      <td>182.500</td>\n",
       "    </tr>\n",
       "  </tbody>\n",
       "</table>\n",
       "</div>"
      ],
      "text/plain": [
       "                           FB     AAPL\n",
       "date                                  \n",
       "2019-05-20 09:30:00  181.6200  183.520\n",
       "2019-05-20 09:31:00  182.6100      NaN\n",
       "2019-05-20 09:31:52       NaN  182.871\n",
       "2019-05-20 09:32:00  182.7458      NaN\n",
       "2019-05-20 09:32:36       NaN  182.500"
      ]
     },
     "execution_count": 37,
     "metadata": {},
     "output_type": "execute_result"
    }
   ],
   "source": [
    "pd.merge_ordered(\n",
    "    fb_prices.reset_index(), aapl_prices.reset_index()\n",
    ").set_index('date').head()"
   ]
  },
  {
   "cell_type": "markdown",
   "metadata": {},
   "source": [
    "We can pass a `fill_method` to handle `NaN` values:"
   ]
  },
  {
   "cell_type": "code",
   "execution_count": 38,
   "metadata": {},
   "outputs": [
    {
     "data": {
      "text/html": [
       "<div>\n",
       "<style scoped>\n",
       "    .dataframe tbody tr th:only-of-type {\n",
       "        vertical-align: middle;\n",
       "    }\n",
       "\n",
       "    .dataframe tbody tr th {\n",
       "        vertical-align: top;\n",
       "    }\n",
       "\n",
       "    .dataframe thead th {\n",
       "        text-align: right;\n",
       "    }\n",
       "</style>\n",
       "<table border=\"1\" class=\"dataframe\">\n",
       "  <thead>\n",
       "    <tr style=\"text-align: right;\">\n",
       "      <th></th>\n",
       "      <th>FB</th>\n",
       "      <th>AAPL</th>\n",
       "    </tr>\n",
       "    <tr>\n",
       "      <th>date</th>\n",
       "      <th></th>\n",
       "      <th></th>\n",
       "    </tr>\n",
       "  </thead>\n",
       "  <tbody>\n",
       "    <tr>\n",
       "      <th>2019-05-20 09:30:00</th>\n",
       "      <td>181.6200</td>\n",
       "      <td>183.520</td>\n",
       "    </tr>\n",
       "    <tr>\n",
       "      <th>2019-05-20 09:31:00</th>\n",
       "      <td>182.6100</td>\n",
       "      <td>183.520</td>\n",
       "    </tr>\n",
       "    <tr>\n",
       "      <th>2019-05-20 09:31:52</th>\n",
       "      <td>182.6100</td>\n",
       "      <td>182.871</td>\n",
       "    </tr>\n",
       "    <tr>\n",
       "      <th>2019-05-20 09:32:00</th>\n",
       "      <td>182.7458</td>\n",
       "      <td>182.871</td>\n",
       "    </tr>\n",
       "    <tr>\n",
       "      <th>2019-05-20 09:32:36</th>\n",
       "      <td>182.7458</td>\n",
       "      <td>182.500</td>\n",
       "    </tr>\n",
       "  </tbody>\n",
       "</table>\n",
       "</div>"
      ],
      "text/plain": [
       "                           FB     AAPL\n",
       "date                                  \n",
       "2019-05-20 09:30:00  181.6200  183.520\n",
       "2019-05-20 09:31:00  182.6100  183.520\n",
       "2019-05-20 09:31:52  182.6100  182.871\n",
       "2019-05-20 09:32:00  182.7458  182.871\n",
       "2019-05-20 09:32:36  182.7458  182.500"
      ]
     },
     "execution_count": 38,
     "metadata": {},
     "output_type": "execute_result"
    }
   ],
   "source": [
    "pd.merge_ordered(\n",
    "    fb_prices.reset_index(), aapl_prices.reset_index(),\n",
    "    fill_method='ffill'\n",
    ").set_index('date').head()"
   ]
  },
  {
   "cell_type": "markdown",
   "metadata": {},
   "source": [
    "Alternatively, we can use `fillna()`."
   ]
  }
 ],
 "metadata": {
  "kernelspec": {
   "display_name": "Python 3",
   "language": "python",
   "name": "python3"
  },
  "language_info": {
   "codemirror_mode": {
    "name": "ipython",
    "version": 3
   },
   "file_extension": ".py",
   "mimetype": "text/x-python",
   "name": "python",
   "nbconvert_exporter": "python",
   "pygments_lexer": "ipython3",
   "version": "3.7.3"
  }
 },
 "nbformat": 4,
 "nbformat_minor": 4
}
